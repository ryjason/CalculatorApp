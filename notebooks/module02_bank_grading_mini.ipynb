{
  "cells": [
    {
      "cell_type": "markdown",
      "metadata": {
        "id": "dYY_wyUQuxmS"
      },
      "source": [
        "Prep work:\n",
        "\n",
        "*   Download team csv predictions file\n",
        "*   Rename files to team8-module2-predictions.csv where team8 is the name of your team\n",
        "*   Make sure file is one column and remove any extra columns\n",
        "*   Make sure the heading is set to \"predictions\" (without quotes)\n",
        "*   Upload csv predictions to session storage area.\n",
        "    *     Click the folder icon, then click the upload icon (paper with an upward arrow)\n",
        "*   Run the notebook (Runtime -> Run all)\n",
        "\n",
        "\n",
        "\n",
        "\n"
      ]
    },
    {
      "cell_type": "code",
      "execution_count": 56,
      "metadata": {
        "id": "ZeZMLW3ytz01"
      },
      "outputs": [],
      "source": [
        "# MODULE 02 - BANK HOLDOUT GRADING\n",
        "\n",
        "from pathlib import Path\n",
        "import pandas as pd\n",
        "import seaborn as sns\n",
        "import matplotlib.pyplot as plt\n",
        "import numpy as np\n",
        "from sklearn.metrics import confusion_matrix\n",
        "\n",
        "blue_score = 650\n",
        "orange_score = 300\n",
        "\n",
        "# READ IN THE CSV FILES\n",
        "team_dir = Path(\"./\")\n",
        "teams = team_dir.glob(\"*-predictions.csv\")\n",
        "team_list = []\n",
        "for team in teams:\n",
        "  # print(latent_file)\n",
        "  team_list.append((str(team).split(\"-\",1)[0],team))\n",
        "\n",
        "# print(team_list)"
      ]
    },
    {
      "cell_type": "code",
      "execution_count": 57,
      "metadata": {
        "id": "HhWSijWbvqMW"
      },
      "outputs": [],
      "source": [
        "# READ IN THE MINI HOLDOUT ANSWERS\n",
        "targets_file = \"https://raw.githubusercontent.com/byui-cse/cse450-course/master/data/bank_holdout_test_mini_answers.csv\"\n",
        "targets = pd.read_csv(targets_file)\n",
        "# targets"
      ]
    },
    {
      "cell_type": "code",
      "execution_count": 58,
      "metadata": {
        "colab": {
          "base_uri": "https://localhost:8080/"
        },
        "id": "gSHn-_3f0eqx",
        "outputId": "5d0134ce-1720-41d5-c3f3-6b3b09f47eed"
      },
      "outputs": [
        {
          "output_type": "stream",
          "name": "stdout",
          "text": [
            "Group team08 added successfully\n"
          ]
        }
      ],
      "source": [
        "# ARE THE STUDENT DATASETS THE CORRECT LENGTH\n",
        "student_datasets = {}\n",
        "for (group, file) in team_list:\n",
        "  ds = pd.read_csv(file)\n",
        "\n",
        "  if len(ds) != len(targets):\n",
        "    print(f\"Error group {group} ds had {len(ds)} rows instead of the expected {len(targets)}. It will be excluded.\")\n",
        "  else:\n",
        "    student_datasets[group] = ds\n",
        "    print(f\"Group {group} added successfully\")"
      ]
    },
    {
      "cell_type": "code",
      "execution_count": 59,
      "metadata": {
        "id": "9sBeLEAl1OXi"
      },
      "outputs": [],
      "source": [
        "# student_datasets"
      ]
    },
    {
      "cell_type": "code",
      "execution_count": 60,
      "metadata": {
        "id": "jT2EIFkK-z9c"
      },
      "outputs": [],
      "source": [
        "def recommended_grade(amount):\n",
        "  '''\n",
        "  A simple min max scaler to identify a recommended score for the holdout set\n",
        "  '''\n",
        "  min_allowed = orange_score\n",
        "  max_allowed = blue_score\n",
        "  if amount>max_allowed:\n",
        "    return 100\n",
        "  elif amount<min_allowed:\n",
        "    return 0\n",
        "  else:\n",
        "    return (amount - min_allowed) / (max_allowed - min_allowed)*100\n",
        ""
      ]
    },
    {
      "cell_type": "code",
      "execution_count": 61,
      "metadata": {
        "id": "I6TFZng56xoL"
      },
      "outputs": [],
      "source": [
        "def value_of_calls(incorrect_calls, correct_calls):\n",
        "  '''\n",
        "  This function is based on assumptions about bank employee wages, time requirements,\n",
        "  average savings amounts, and net interest margin. Wages, average savings, and net interest margin,\n",
        "  were pulled from the time range of the dataset. Assumptions were made about time on call and the\n",
        "  percentage of a person's total savings they'd be willing to put into a term deposit.\n",
        "  '''\n",
        "  time_on_call = .5\n",
        "  wage = -11 # minimum wage is 6.50 and typicall teller wage is 11\n",
        "  call_cost = wage*time_on_call\n",
        "  average_savings = 4960\n",
        "  percent_in_term_deposit = .75\n",
        "  net_interest_margin = .012\n",
        "  positive_call_benefit = average_savings*percent_in_term_deposit*net_interest_margin\n",
        "  total_earned = incorrect_calls*call_cost + correct_calls*call_cost + correct_calls*positive_call_benefit\n",
        "  return total_earned\n"
      ]
    },
    {
      "cell_type": "code",
      "execution_count": 62,
      "metadata": {
        "id": "LhxXUH3d2Lqy"
      },
      "outputs": [],
      "source": [
        "results_dict = {}"
      ]
    },
    {
      "cell_type": "code",
      "execution_count": 63,
      "metadata": {
        "id": "mS0t9a551Pbw"
      },
      "outputs": [],
      "source": [
        "for group, student_ds in student_datasets.items():\n",
        "  student_dict = {}\n",
        "  cm = confusion_matrix(student_ds, targets)\n",
        "  # print(group,cm)\n",
        "  student_dict[\"Incorrect Calls\"] = cm[1][0]\n",
        "  student_dict[\"Correct Calls\"] = cm[1][1]\n",
        "  student_dict[\"Value of Calls\"] = value_of_calls(cm[1][0],cm[1][1])\n",
        "  student_dict[\"Estimated Grade\"] = recommended_grade(student_dict['Value of Calls'])\n",
        "\n",
        "  results_dict[group] = student_dict"
      ]
    },
    {
      "cell_type": "code",
      "execution_count": 64,
      "metadata": {
        "id": "TOe4NUIX36KP"
      },
      "outputs": [],
      "source": [
        "# results_dict"
      ]
    },
    {
      "cell_type": "code",
      "execution_count": 65,
      "metadata": {
        "id": "DfrNcraU2VwJ"
      },
      "outputs": [],
      "source": [
        "results_df = pd.DataFrame(results_dict)\n",
        "results_ds_trans = results_df.transpose()\n",
        "results_ds_trans = results_ds_trans.drop(columns=[\"Estimated Grade\"])\n",
        "results_ds_trans = results_ds_trans.round(2)\n",
        "results_ds_trans = results_ds_trans.sort_values(by=\"Value of Calls\",ascending=False)\n",
        "# results_ds_trans.to_csv(\"class_results.csv\")\n",
        "# results_ds_trans"
      ]
    },
    {
      "cell_type": "code",
      "execution_count": 66,
      "metadata": {
        "colab": {
          "base_uri": "https://localhost:8080/",
          "height": 544
        },
        "id": "D3fwfvsg9K3D",
        "outputId": "fce7abcb-b582-4238-fca2-24ddf42afa5e"
      },
      "outputs": [
        {
          "output_type": "display_data",
          "data": {
            "text/plain": [
              "<Figure size 640x480 with 1 Axes>"
            ],
            "image/png": "[encoded data removed]"
          },
          "metadata": {}
        },
        {
          "output_type": "execute_result",
          "data": {
            "text/plain": [
              "        Incorrect Calls  Correct Calls  Value of Calls\n",
              "team08             51.0           28.0          815.42"
            ],
            "text/html": [
              "\n",
              "  <div id=\"df-64dced73-05d1-4487-b2ed-c997a5b84081\" class=\"colab-df-container\">\n",
              "    <div>\n",
              "<style scoped>\n",
              "    .dataframe tbody tr th:only-of-type {\n",
              "        vertical-align: middle;\n",
              "    }\n",
              "\n",
              "    .dataframe tbody tr th {\n",
              "        vertical-align: top;\n",
              "    }\n",
              "\n",
              "    .dataframe thead th {\n",
              "        text-align: right;\n",
              "    }\n",
              "</style>\n",
              "<table border=\"1\" class=\"dataframe\">\n",
              "  <thead>\n",
              "    <tr style=\"text-align: right;\">\n",
              "      <th></th>\n",
              "      <th>Incorrect Calls</th>\n",
              "      <th>Correct Calls</th>\n",
              "      <th>Value of Calls</th>\n",
              "    </tr>\n",
              "  </thead>\n",
              "  <tbody>\n",
              "    <tr>\n",
              "      <th>team08</th>\n",
              "      <td>51.0</td>\n",
              "      <td>28.0</td>\n",
              "      <td>815.42</td>\n",
              "    </tr>\n",
              "  </tbody>\n",
              "</table>\n",
              "</div>\n",
              "    <div class=\"colab-df-buttons\">\n",
              "\n",
              "  <div class=\"colab-df-container\">\n",
              "    <button class=\"colab-df-convert\" onclick=\"convertToInteractive('df-64dced73-05d1-4487-b2ed-c997a5b84081')\"\n",
              "            title=\"Convert this dataframe to an interactive table.\"\n",
              "            style=\"display:none;\">\n",
              "\n",
              "  <svg xmlns=\"http://www.w3.org/2000/svg\" height=\"24px\" viewBox=\"0 -960 960 960\">\n",
              "    <path d=\"M120-120v-720h720v720H120Zm60-500h600v-160H180v160Zm220 220h160v-160H400v160Zm0 220h160v-160H400v160ZM180-400h160v-160H180v160Zm440 0h160v-160H620v160ZM180-180h160v-160H180v160Zm440 0h160v-160H620v160Z\"/>\n",
              "  </svg>\n",
              "    </button>\n",
              "\n",
              "  <style>\n",
              "    .colab-df-container {\n",
              "      display:flex;\n",
              "      gap: 12px;\n",
              "    }\n",
              "\n",
              "    .colab-df-convert {\n",
              "      background-color: #E8F0FE;\n",
              "      border: none;\n",
              "      border-radius: 50%;\n",
              "      cursor: pointer;\n",
              "      display: none;\n",
              "      fill: #1967D2;\n",
              "      height: 32px;\n",
              "      padding: 0 0 0 0;\n",
              "      width: 32px;\n",
              "    }\n",
              "\n",
              "    .colab-df-convert:hover {\n",
              "      background-color: #E2EBFA;\n",
              "      box-shadow: 0px 1px 2px rgba(60, 64, 67, 0.3), 0px 1px 3px 1px rgba(60, 64, 67, 0.15);\n",
              "      fill: #174EA6;\n",
              "    }\n",
              "\n",
              "    .colab-df-buttons div {\n",
              "      margin-bottom: 4px;\n",
              "    }\n",
              "\n",
              "    [theme=dark] .colab-df-convert {\n",
              "      background-color: #3B4455;\n",
              "      fill: #D2E3FC;\n",
              "    }\n",
              "\n",
              "    [theme=dark] .colab-df-convert:hover {\n",
              "      background-color: #434B5C;\n",
              "      box-shadow: 0px 1px 3px 1px rgba(0, 0, 0, 0.15);\n",
              "      filter: drop-shadow(0px 1px 2px rgba(0, 0, 0, 0.3));\n",
              "      fill: #FFFFFF;\n",
              "    }\n",
              "  </style>\n",
              "\n",
              "    <script>\n",
              "      const buttonEl =\n",
              "        document.querySelector('#df-64dced73-05d1-4487-b2ed-c997a5b84081 button.colab-df-convert');\n",
              "      buttonEl.style.display =\n",
              "        google.colab.kernel.accessAllowed ? 'block' : 'none';\n",
              "\n",
              "      async function convertToInteractive(key) {\n",
              "        const element = document.querySelector('#df-64dced73-05d1-4487-b2ed-c997a5b84081');\n",
              "        const dataTable =\n",
              "          await google.colab.kernel.invokeFunction('convertToInteractive',\n",
              "                                                    [key], {});\n",
              "        if (!dataTable) return;\n",
              "\n",
              "        const docLinkHtml = 'Like what you see? Visit the ' +\n",
              "          '<a target=\"_blank\" href=https://colab.research.google.com/notebooks/data_table.ipynb>data table notebook</a>'\n",
              "          + ' to learn more about interactive tables.';\n",
              "        element.innerHTML = '';\n",
              "        dataTable['output_type'] = 'display_data';\n",
              "        await google.colab.output.renderOutput(dataTable, element);\n",
              "        const docLink = document.createElement('div');\n",
              "        docLink.innerHTML = docLinkHtml;\n",
              "        element.appendChild(docLink);\n",
              "      }\n",
              "    </script>\n",
              "  </div>\n",
              "\n",
              "\n",
              "  <div id=\"id_853515b5-f749-44b8-9542-03b750b67c7d\">\n",
              "    <style>\n",
              "      .colab-df-generate {\n",
              "        background-color: #E8F0FE;\n",
              "        border: none;\n",
              "        border-radius: 50%;\n",
              "        cursor: pointer;\n",
              "        display: none;\n",
              "        fill: #1967D2;\n",
              "        height: 32px;\n",
              "        padding: 0 0 0 0;\n",
              "        width: 32px;\n",
              "      }\n",
              "\n",
              "      .colab-df-generate:hover {\n",
              "        background-color: #E2EBFA;\n",
              "        box-shadow: 0px 1px 2px rgba(60, 64, 67, 0.3), 0px 1px 3px 1px rgba(60, 64, 67, 0.15);\n",
              "        fill: #174EA6;\n",
              "      }\n",
              "\n",
              "      [theme=dark] .colab-df-generate {\n",
              "        background-color: #3B4455;\n",
              "        fill: #D2E3FC;\n",
              "      }\n",
              "\n",
              "      [theme=dark] .colab-df-generate:hover {\n",
              "        background-color: #434B5C;\n",
              "        box-shadow: 0px 1px 3px 1px rgba(0, 0, 0, 0.15);\n",
              "        filter: drop-shadow(0px 1px 2px rgba(0, 0, 0, 0.3));\n",
              "        fill: #FFFFFF;\n",
              "      }\n",
              "    </style>\n",
              "    <button class=\"colab-df-generate\" onclick=\"generateWithVariable('results_ds_trans')\"\n",
              "            title=\"Generate code using this dataframe.\"\n",
              "            style=\"display:none;\">\n",
              "\n",
              "  <svg xmlns=\"http://www.w3.org/2000/svg\" height=\"24px\"viewBox=\"0 0 24 24\"\n",
              "       width=\"24px\">\n",
              "    <path d=\"M7,19H8.4L18.45,9,17,7.55,7,17.6ZM5,21V16.75L18.45,3.32a2,2,0,0,1,2.83,0l1.4,1.43a1.91,1.91,0,0,1,.58,1.4,1.91,1.91,0,0,1-.58,1.4L9.25,21ZM18.45,9,17,7.55Zm-12,3A5.31,5.31,0,0,0,4.9,8.1,5.31,5.31,0,0,0,1,6.5,5.31,5.31,0,0,0,4.9,4.9,5.31,5.31,0,0,0,6.5,1,5.31,5.31,0,0,0,8.1,4.9,5.31,5.31,0,0,0,12,6.5,5.46,5.46,0,0,0,6.5,12Z\"/>\n",
              "  </svg>\n",
              "    </button>\n",
              "    <script>\n",
              "      (() => {\n",
              "      const buttonEl =\n",
              "        document.querySelector('#id_853515b5-f749-44b8-9542-03b750b67c7d button.colab-df-generate');\n",
              "      buttonEl.style.display =\n",
              "        google.colab.kernel.accessAllowed ? 'block' : 'none';\n",
              "\n",
              "      buttonEl.onclick = () => {\n",
              "        google.colab.notebook.generateWithVariable('results_ds_trans');\n",
              "      }\n",
              "      })();\n",
              "    </script>\n",
              "  </div>\n",
              "\n",
              "    </div>\n",
              "  </div>\n"
            ],
            "application/vnd.google.colaboratory.intrinsic+json": {
              "type": "dataframe",
              "variable_name": "results_ds_trans",
              "summary": "{\n  \"name\": \"results_ds_trans\",\n  \"rows\": 1,\n  \"fields\": [\n    {\n      \"column\": \"Incorrect Calls\",\n      \"properties\": {\n        \"dtype\": \"number\",\n        \"std\": null,\n        \"min\": 51.0,\n        \"max\": 51.0,\n        \"num_unique_values\": 1,\n        \"samples\": [\n          51.0\n        ],\n        \"semantic_type\": \"\",\n        \"description\": \"\"\n      }\n    },\n    {\n      \"column\": \"Correct Calls\",\n      \"properties\": {\n        \"dtype\": \"number\",\n        \"std\": null,\n        \"min\": 28.0,\n        \"max\": 28.0,\n        \"num_unique_values\": 1,\n        \"samples\": [\n          28.0\n        ],\n        \"semantic_type\": \"\",\n        \"description\": \"\"\n      }\n    },\n    {\n      \"column\": \"Value of Calls\",\n      \"properties\": {\n        \"dtype\": \"number\",\n        \"std\": null,\n        \"min\": 815.42,\n        \"max\": 815.42,\n        \"num_unique_values\": 1,\n        \"samples\": [\n          815.42\n        ],\n        \"semantic_type\": \"\",\n        \"description\": \"\"\n      }\n    }\n  ]\n}"
            }
          },
          "metadata": {},
          "execution_count": 66
        }
      ],
      "source": [
        "# GENERATE GRAPHICS FOR TEAMS\n",
        "# THESE CAN BE SHARED WITH THE STUDENTS\n",
        "\n",
        "graph = sns.barplot(data=results_ds_trans,y=\"Value of Calls\",x=results_ds_trans.index)\n",
        "graph.set_title(\"Amount Earned by Team\")\n",
        "graph.axhline(blue_score)\n",
        "for bar in graph.patches:\n",
        "    if bar.get_height() > blue_score:\n",
        "        bar.set_color('tab:blue')\n",
        "    elif bar.get_height() <0:\n",
        "      bar.set_color('tab:red')\n",
        "    elif bar.get_height() < orange_score:\n",
        "      bar.set_color('tab:orange')\n",
        "    else:\n",
        "        bar.set_color('tab:grey')\n",
        "#The plot is shown\n",
        "plt.show()\n",
        "results_ds_trans"
      ]
    }
  ],
  "metadata": {
    "colab": {
      "name": "Module02-bank-grading_mini.ipynb",
      "provenance": []
    },
    "kernelspec": {
      "display_name": "Python 3",
      "language": "python",
      "name": "python3"
    },
    "language_info": {
      "name": "python",
      "version": "3.8.5"
    },
    "vscode": {
      "interpreter": {
        "hash": "011be37f879e0ba7a3d94f28c1e9a24aca4c9c0e96be9163ce8dabdf859b445e"
      }
    }
  },
  "nbformat": 4,
  "nbformat_minor": 0
}