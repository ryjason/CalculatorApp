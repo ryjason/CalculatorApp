{
  "nbformat": 4,
  "nbformat_minor": 0,
  "metadata": {
    "colab": {
      "name": "starter_bank.ipynb",
      "provenance": []
    },
    "kernelspec": {
      "name": "python3",
      "display_name": "Python 3"
    }
  },
  "cells": [
    {
      "cell_type": "code",
      "metadata": {
        "id": "mA0HPVmIBT4C"
      },
      "source": [
        "import pandas as pd\n",
        "\n",
        "data = pd.read_csv('https://raw.githubusercontent.com/byui-cse/cse450-course/master/data/bank.csv')\n",
        "data.head(5)\n",
        "mini = pd.read_csv('https://raw.githubusercontent.com/byui-cse/cse450-course/master/data/bank_holdout_test_mini.csv')"
      ],
      "execution_count": 163,
      "outputs": []
    },
    {
      "cell_type": "code",
      "source": [
        "import pandas as pd\n",
        "from sklearn.model_selection import train_test_split\n",
        "from sklearn.tree import DecisionTreeClassifier\n",
        "from sklearn.metrics import accuracy_score\n",
        "\n",
        "# Drop missing values\n",
        "data = data.dropna()\n",
        "\n",
        "# Features to include in the model\n",
        "features = ['age', 'job', 'marital', 'education', 'loan','campaign','nr.employed']\n",
        "# Encode categorical features using one-hot encoding\n",
        "X = pd.get_dummies(data[features], drop_first=True)\n",
        "\n",
        "# Encode the target variable (yes=1, no=0)\n",
        "y = data['y'].map({'yes': 1, 'no': 0})\n",
        "\n",
        "# Train-test split (40% for testing)\n",
        "X_train, X_test, y_train, y_test = train_test_split(X, y, test_size=0.20,random_state=0)\n",
        "\n",
        "# Build the decision tree\n",
        "clf = DecisionTreeClassifier(random_state=0)\n",
        "\n",
        "# Train the model\n",
        "clf.fit(X_train, y_train)\n",
        "\n",
        "# Evaluate the model\n",
        "y_pred = clf.predict(X_test)\n",
        "accuracy = accuracy_score(y_test, y_pred)\n",
        "\n",
        "print(f\"Model Accuracy: {accuracy:.2f}\")\n"
      ],
      "metadata": {
        "colab": {
          "base_uri": "https://localhost:8080/"
        },
        "id": "vzJEb3TW8Mqe",
        "outputId": "4632a0f0-bbf5-4889-e31f-d90f3befc1a5"
      },
      "execution_count": 130,
      "outputs": [
        {
          "output_type": "stream",
          "name": "stdout",
          "text": [
            "Model Accuracy: 0.85\n"
          ]
        }
      ]
    },
    {
      "cell_type": "markdown",
      "source": [],
      "metadata": {
        "id": "gJ4qbd5B8MZM"
      }
    },
    {
      "cell_type": "code",
      "metadata": {
        "id": "ALLMN63FPyEQ"
      },
      "source": [
        "\n",
        "# import matplotlib.pyplot as plt\n",
        "\n",
        "# fig, ax = plt.subplots(figsize=(20, 20))\n",
        "# tree.plot_tree(clf, fontsize=10, feature_names=X.columns)\n",
        "# plt.show()"
      ],
      "execution_count": 126,
      "outputs": []
    },
    {
      "cell_type": "code",
      "metadata": {
        "id": "RnGBwGVZPyyh",
        "colab": {
          "base_uri": "https://localhost:8080/"
        },
        "outputId": "e7d24cb5-ee32-4e3a-9bad-4f68edb64c19"
      },
      "source": [
        "test_data = pd.read_csv(\"https://raw.githubusercontent.com/byui-cse/cse450-course/master/data/bank_holdout_test_mini.csv\")\n",
        "\n",
        "# Align features with the training data\n",
        "X_test_holdout = pd.get_dummies(test_data[features], drop_first=True)\n",
        "\n",
        "# Make predictions on the holdout dataset\n",
        "predictions = clf.predict(X_test_holdout)\n",
        "\n",
        "# Save predictions to a CSV file\n",
        "output = pd.DataFrame({'y': predictions})\n",
        "\n",
        "# Save to CSV\n",
        "output.to_csv(\"team08-module2-predictions.csv\", index=False)\n",
        "\n",
        "print(\"Predictions saved to 'team08-module2-predictions.csv'\")\n"
      ],
      "execution_count": 131,
      "outputs": [
        {
          "output_type": "stream",
          "name": "stdout",
          "text": [
            "Predictions saved to 'team08-module2-predictions.csv'\n"
          ]
        }
      ]
    },
    {
      "cell_type": "code",
      "metadata": {
        "id": "CVSfaqgKPzE2",
        "colab": {
          "base_uri": "https://localhost:8080/"
        },
        "outputId": "583885ee-a253-4a36-9454-fbecb10a263f"
      },
      "source": [
        "import pandas as pd\n",
        "from sklearn.model_selection import train_test_split\n",
        "from sklearn.ensemble import RandomForestClassifier\n",
        "from sklearn.metrics import accuracy_score,classification_report\n",
        "\n",
        "# Drop missing values\n",
        "data = data.dropna()\n",
        "\n",
        "# Features to include in the model\n",
        "features = ['age', 'job', 'marital', 'education', 'loan', 'campaign', 'nr.employed']\n",
        "\n",
        "# Encode categorical features using one-hot encoding\n",
        "X = pd.get_dummies(data[features], drop_first=True)\n",
        "\n",
        "# Encode the target variable (yes=1, no=0)\n",
        "y = data['y'].map({'yes': 1, 'no': 0})\n",
        "\n",
        "# Train-test split (20% for testing)\n",
        "X_train, X_test, y_train, y_test = train_test_split(X, y, test_size=0.30, random_state=42)\n",
        "\n",
        "# Build the Random Forest classifier\n",
        "clf = RandomForestClassifier(n_estimators=100, random_state=42)  # Use 100 trees as default\n",
        "\n",
        "# Train the model\n",
        "clf.fit(X_train, y_train)\n",
        "\n",
        "# Evaluate the model\n",
        "y_pred = clf.predict(X_test)\n",
        "accuracy = accuracy_score(y_test, y_pred)\n",
        "\n",
        "print(f\"Random Forest Model Accuracy: {accuracy:.2f}\")\n",
        "report = classification_report(y_test, y_pred, target_names=['No', 'Yes'])\n",
        "print(\"\\nClassification Report:\")\n",
        "print(report)"
      ],
      "execution_count": 169,
      "outputs": [
        {
          "output_type": "stream",
          "name": "stdout",
          "text": [
            "Random Forest Model Accuracy: 0.87\n",
            "\n",
            "Classification Report:\n",
            "              precision    recall  f1-score   support\n",
            "\n",
            "          No       0.91      0.95      0.93      9816\n",
            "         Yes       0.43      0.25      0.32      1305\n",
            "\n",
            "    accuracy                           0.87     11121\n",
            "   macro avg       0.67      0.60      0.62     11121\n",
            "weighted avg       0.85      0.87      0.86     11121\n",
            "\n"
          ]
        }
      ]
    },
    {
      "cell_type": "code",
      "source": [
        "test_data = pd.read_csv(\"https://raw.githubusercontent.com/byui-cse/cse450-course/master/data/bank_holdout_test_mini.csv\")\n",
        "\n",
        "# Align features with the training data\n",
        "X_test_holdout = pd.get_dummies(test_data[features], drop_first=True)\n",
        "\n",
        "\n",
        "# Make predictions on the holdout dataset\n",
        "predictions = clf.predict(X_test_holdout)\n",
        "\n",
        "# Save predictions to a CSV file\n",
        "output = pd.DataFrame({'predictions': predictions})\n",
        "\n",
        "# Save to CSV\n",
        "output.to_csv(\"team08-module2-predictions.csv\", index=False)"
      ],
      "metadata": {
        "id": "4d5aK-vpAhBb"
      },
      "execution_count": 168,
      "outputs": []
    }
  ]
}