{
  "nbformat": 4,
  "nbformat_minor": 0,
  "metadata": {
    "colab": {
      "name": "starter_bank.ipynb",
      "provenance": []
    },
    "kernelspec": {
      "name": "python3",
      "display_name": "Python 3"
    }
  },
  "cells": [
    {
      "cell_type": "code",
      "metadata": {
        "id": "mA0HPVmIBT4C"
      },
      "source": [
        "import pandas as pd\n",
        "\n",
        "data = pd.read_csv('https://raw.githubusercontent.com/byui-cse/cse450-course/master/data/bank.csv')"
      ],
      "execution_count": 24,
      "outputs": []
    },
    {
      "cell_type": "code",
      "source": [
        "import pandas as pd\n",
        "from sklearn.model_selection import train_test_split\n",
        "from sklearn.ensemble import RandomForestClassifier\n",
        "from sklearn.metrics import accuracy_score, classification_report\n",
        "\n",
        "# Drop missing values\n",
        "data = data.dropna()\n",
        "\n",
        "# Features to include in the model\n",
        "features = ['age', 'job', 'marital', 'education', 'loan', 'campaign', 'nr.employed']\n",
        "\n",
        "# Encode categorical features using one-hot encoding\n",
        "X = pd.get_dummies(data[features], drop_first=True)\n",
        "\n",
        "# Encode the target variable (yes=1, no=0)\n",
        "y = data['y'].map({'yes': 1, 'no': 0})\n",
        "\n",
        "# Train-test split (20% for testing)\n",
        "X_train, X_test, y_train, y_test = train_test_split(X, y, test_size=0.20, random_state=0, stratify=y)\n",
        "\n",
        "# Build the Random Forest classifier with limited depth\n",
        "clf = RandomForestClassifier(n_estimators=100, random_state=0, class_weight='balanced', max_depth=10)  # Set max_depth to 10\n",
        "\n",
        "# Train the model\n",
        "clf.fit(X_train, y_train)\n",
        "\n",
        "# Evaluate the model\n",
        "y_pred = clf.predict(X_test)\n",
        "accuracy = accuracy_score(y_test, y_pred)\n",
        "\n",
        "print(f\"Model Accuracy: {accuracy:.2f}\")\n",
        "\n",
        "# Classification Report\n",
        "report = classification_report(y_test, y_pred, target_names=['No', 'Yes'])\n",
        "print(\"\\nClassification Report:\")\n",
        "print(report)\n"
      ],
      "metadata": {
        "colab": {
          "base_uri": "https://localhost:8080/"
        },
        "id": "D7imul3YIjpH",
        "outputId": "86659028-55fd-47f0-ce95-2b5993e8891b"
      },
      "execution_count": 25,
      "outputs": [
        {
          "output_type": "stream",
          "name": "stdout",
          "text": [
            "Model Accuracy: 0.82\n",
            "\n",
            "Classification Report:\n",
            "              precision    recall  f1-score   support\n",
            "\n",
            "          No       0.94      0.85      0.89      6572\n",
            "         Yes       0.33      0.59      0.42       842\n",
            "\n",
            "    accuracy                           0.82      7414\n",
            "   macro avg       0.63      0.72      0.66      7414\n",
            "weighted avg       0.87      0.82      0.84      7414\n",
            "\n"
          ]
        }
      ]
    },
    {
      "cell_type": "code",
      "metadata": {
        "id": "ALLMN63FPyEQ",
        "colab": {
          "base_uri": "https://localhost:8080/"
        },
        "outputId": "1a7ab465-653a-4589-84ed-9c06aaf51113"
      },
      "source": [
        "\n",
        "\n",
        "test_data = pd.read_csv(\"https://raw.githubusercontent.com/byui-cse/cse450-course/master/data/bank_holdout_test_mini.csv\")\n",
        "\n",
        "# Align features with the training data\n",
        "X_test_holdout = pd.get_dummies(test_data[features], drop_first=True)\n",
        "\n",
        "# Make predictions on the holdout dataset\n",
        "predictions = clf.predict(X_test_holdout)\n",
        "\n",
        "# Save predictions to a CSV file\n",
        "output = pd.DataFrame({'y': predictions})\n",
        "\n",
        "# Save to CSV\n",
        "output.to_csv(\"team08-module2-predictions.csv\", index=False)\n",
        "\n",
        "print(\"Predictions saved to 'team08-module2-predictions.csv'\")\n"
      ],
      "execution_count": 26,
      "outputs": [
        {
          "output_type": "stream",
          "name": "stdout",
          "text": [
            "Predictions saved to 'team08-module2-predictions.csv'\n"
          ]
        }
      ]
    }
  ]
}