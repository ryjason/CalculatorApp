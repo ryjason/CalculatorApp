{
  "nbformat": 4,
  "nbformat_minor": 0,
  "metadata": {
    "colab": {
      "name": "starter_bank.ipynb",
      "provenance": []
    },
    "kernelspec": {
      "name": "python3",
      "display_name": "Python 3"
    }
  },
  "cells": [
    {
      "cell_type": "code",
      "metadata": {
        "id": "mA0HPVmIBT4C"
      },
      "source": [
        "import pandas as pd\n",
        "\n",
        "data = pd.read_csv('https://raw.githubusercontent.com/byui-cse/cse450-course/master/data/bank.csv')"
      ],
      "execution_count": 24,
      "outputs": []
    },
    {
      "cell_type": "code",
      "source": [
        "import pandas as pd\n",
        "from sklearn.model_selection import train_test_split\n",
        "from sklearn.ensemble import RandomForestClassifier\n",
        "from sklearn.metrics import accuracy_score, classification_report\n",
        "\n",
        "# Drop missing values\n",
        "data = data.dropna()\n",
        "\n",
        "# Features to include in the model\n",
        "features = ['age', 'job', 'marital', 'education', 'loan', 'campaign', 'nr.employed']\n",
        "\n",
        "# Encode categorical features using one-hot encoding\n",
        "X = pd.get_dummies(data[features], drop_first=True)\n",
        "\n",
        "# Encode the target variable (yes=1, no=0)\n",
        "y = data['y'].map({'yes': 1, 'no': 0})\n",
        "\n",
        "# Train-test split (20% for testing)\n",
        "X_train, X_test, y_train, y_test = train_test_split(X, y, test_size=0.20, random_state=42, stratify=y)\n",
        "\n",
        "# Build the Random Forest classifier with limited depth\n",
        "clf = RandomForestClassifier(n_estimators=100, random_state=0, class_weight='balanced', max_depth=10)  # Set max_depth to 10\n",
        "# 0，1，42\n",
        "\n",
        "# Train the model\n",
        "clf.fit(X_train, y_train)\n",
        "\n",
        "# Evaluate the model\n",
        "y_pred = clf.predict(X_test)\n",
        "accuracy = accuracy_score(y_test, y_pred)\n",
        "\n",
        "print(f\"Model Accuracy: {accuracy:.2f}\")\n",
        "\n",
        "# Classification Report\n",
        "report = classification_report(y_test, y_pred, target_names=['No', 'Yes'])\n",
        "print(\"\\nClassification Report:\")\n",
        "print(report)\n"
      ],
      "metadata": {
        "colab": {
          "base_uri": "https://localhost:8080/"
        },
        "id": "D7imul3YIjpH",
        "outputId": "85e52546-d779-404e-b13e-3b29cfe29727"
      },
      "execution_count": 34,
      "outputs": [
        {
          "output_type": "stream",
          "name": "stdout",
          "text": [
            "Model Accuracy: 0.83\n",
            "\n",
            "Classification Report:\n",
            "              precision    recall  f1-score   support\n",
            "\n",
            "          No       0.95      0.85      0.90      6572\n",
            "         Yes       0.35      0.63      0.45       842\n",
            "\n",
            "    accuracy                           0.83      7414\n",
            "   macro avg       0.65      0.74      0.67      7414\n",
            "weighted avg       0.88      0.83      0.85      7414\n",
            "\n"
          ]
        }
      ]
    },
    {
      "cell_type": "code",
      "metadata": {
        "id": "ALLMN63FPyEQ",
        "colab": {
          "base_uri": "https://localhost:8080/"
        },
        "outputId": "63aa1263-2474-4c29-856e-294afae1e28b"
      },
      "source": [
        "\n",
        "\n",
        "test_data = pd.read_csv(\"https://raw.githubusercontent.com/byui-cse/cse450-course/master/data/bank_holdout_test_mini.csv\")\n",
        "\n",
        "# Align features with the training data\n",
        "X_test_holdout = pd.get_dummies(test_data[features], drop_first=True)\n",
        "\n",
        "# Make predictions on the holdout dataset\n",
        "predictions = clf.predict(X_test_holdout)\n",
        "\n",
        "# Save predictions to a CSV file\n",
        "output = pd.DataFrame({'y': predictions})\n",
        "\n",
        "# Save to CSV\n",
        "output.to_csv(\"team08-module2-predictions.csv\", index=False)\n",
        "\n",
        "print(\"Predictions saved to 'team08-module2-predictions.csv'\")\n"
      ],
      "execution_count": 36,
      "outputs": [
        {
          "output_type": "stream",
          "name": "stdout",
          "text": [
            "Predictions saved to 'team08-module2-predictions.csv'\n"
          ]
        }
      ]
    }
  ]
}