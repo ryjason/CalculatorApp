{
  "nbformat": 4,
  "nbformat_minor": 0,
  "metadata": {
    "colab": {
      "name": "starter_bank.ipynb",
      "provenance": []
    },
    "kernelspec": {
      "name": "python3",
      "display_name": "Python 3"
    }
  },
  "cells": [
    {
      "cell_type": "code",
      "metadata": {
        "id": "mA0HPVmIBT4C"
      },
      "source": [
        "import pandas as pd\n",
        "\n",
        "data = pd.read_csv('https://raw.githubusercontent.com/byui-cse/cse450-course/master/data/bank.csv')"
      ],
      "execution_count": 4,
      "outputs": []
    },
    {
      "cell_type": "code",
      "metadata": {
        "id": "StiU5QcPPxqQ",
        "colab": {
          "base_uri": "https://localhost:8080/"
        },
        "outputId": "3f0d4d3d-b0bb-4238-d2b1-ff4434bcc96d"
      },
      "source": [
        "import pandas as pd\n",
        "from sklearn.model_selection import train_test_split\n",
        "from sklearn.tree import DecisionTreeClassifier\n",
        "from sklearn.metrics import accuracy_score, classification_report\n",
        "\n",
        "# Drop missing values\n",
        "data = data.dropna()\n",
        "\n",
        "# Features to include in the model\n",
        "features = ['age', 'job', 'marital', 'education', 'loan', 'campaign', 'nr.employed']\n",
        "\n",
        "# Encode categorical features using one-hot encoding\n",
        "X = pd.get_dummies(data[features], drop_first=True)\n",
        "\n",
        "# Encode the target variable (yes=1, no=0)\n",
        "y = data['y'].map({'yes': 1, 'no': 0})\n",
        "\n",
        "# Train-test split (20% for testing)\n",
        "X_train, X_test, y_train, y_test = train_test_split(X, y, test_size=0.20, random_state=0, stratify=y)\n",
        "\n",
        "# Build the decision tree with class weights\n",
        "clf = DecisionTreeClassifier(random_state=0, class_weight='balanced')\n",
        "\n",
        "# Train the model\n",
        "clf.fit(X_train, y_train)\n",
        "\n",
        "# Evaluate the model\n",
        "y_pred = clf.predict(X_test)\n",
        "accuracy = accuracy_score(y_test, y_pred)\n",
        "\n",
        "print(f\"Model Accuracy: {accuracy:.2f}\")\n",
        "\n",
        "# Classification Report\n",
        "report = classification_report(y_test, y_pred, target_names=['No', 'Yes'])\n",
        "print(\"\\nClassification Report:\")\n",
        "print(report)\n"
      ],
      "execution_count": 20,
      "outputs": [
        {
          "output_type": "stream",
          "name": "stdout",
          "text": [
            "Model Accuracy: 0.79\n",
            "\n",
            "Classification Report:\n",
            "              precision    recall  f1-score   support\n",
            "\n",
            "          No       0.91      0.85      0.88      6572\n",
            "         Yes       0.23      0.35      0.28       842\n",
            "\n",
            "    accuracy                           0.79      7414\n",
            "   macro avg       0.57      0.60      0.58      7414\n",
            "weighted avg       0.83      0.79      0.81      7414\n",
            "\n"
          ]
        }
      ]
    },
    {
      "cell_type": "code",
      "source": [
        "import pandas as pd\n",
        "from sklearn.model_selection import train_test_split\n",
        "from sklearn.ensemble import RandomForestClassifier\n",
        "from sklearn.metrics import accuracy_score, classification_report\n",
        "\n",
        "# Drop missing values\n",
        "data = data.dropna()\n",
        "\n",
        "# Features to include in the model\n",
        "features = ['age', 'job', 'marital', 'education', 'loan', 'campaign', 'nr.employed']\n",
        "\n",
        "# Encode categorical features using one-hot encoding\n",
        "X = pd.get_dummies(data[features], drop_first=True)\n",
        "\n",
        "# Encode the target variable (yes=1, no=0)\n",
        "y = data['y'].map({'yes': 1, 'no': 0})\n",
        "\n",
        "# Train-test split (20% for testing)\n",
        "X_train, X_test, y_train, y_test = train_test_split(X, y, test_size=0.20, random_state=0, stratify=y)\n",
        "\n",
        "# Build the Random Forest classifier with limited depth\n",
        "clf = RandomForestClassifier(n_estimators=100, random_state=0, class_weight='balanced', max_depth=10)  # Set max_depth to 10\n",
        "\n",
        "# Train the model\n",
        "clf.fit(X_train, y_train)\n",
        "\n",
        "# Evaluate the model\n",
        "y_pred = clf.predict(X_test)\n",
        "accuracy = accuracy_score(y_test, y_pred)\n",
        "\n",
        "print(f\"Model Accuracy: {accuracy:.2f}\")\n",
        "\n",
        "# Classification Report\n",
        "report = classification_report(y_test, y_pred, target_names=['No', 'Yes'])\n",
        "print(\"\\nClassification Report:\")\n",
        "print(report)\n"
      ],
      "metadata": {
        "id": "D7imul3YIjpH",
        "outputId": "653d868c-35f4-4108-9f77-0262c098e0bd",
        "colab": {
          "base_uri": "https://localhost:8080/"
        }
      },
      "execution_count": 22,
      "outputs": [
        {
          "output_type": "stream",
          "name": "stdout",
          "text": [
            "Model Accuracy: 0.82\n",
            "\n",
            "Classification Report:\n",
            "              precision    recall  f1-score   support\n",
            "\n",
            "          No       0.94      0.85      0.89      6572\n",
            "         Yes       0.33      0.59      0.42       842\n",
            "\n",
            "    accuracy                           0.82      7414\n",
            "   macro avg       0.63      0.72      0.66      7414\n",
            "weighted avg       0.87      0.82      0.84      7414\n",
            "\n"
          ]
        }
      ]
    },
    {
      "cell_type": "code",
      "metadata": {
        "id": "ALLMN63FPyEQ",
        "colab": {
          "base_uri": "https://localhost:8080/"
        },
        "outputId": "46af4b42-4c32-4c51-ae2a-d6de44a00013"
      },
      "source": [
        "\n",
        "\n",
        "test_data = pd.read_csv(\"https://raw.githubusercontent.com/byui-cse/cse450-course/master/data/bank_holdout_test_mini.csv\")\n",
        "\n",
        "# Align features with the training data\n",
        "X_test_holdout = pd.get_dummies(test_data[features], drop_first=True)\n",
        "\n",
        "# Make predictions on the holdout dataset\n",
        "predictions = clf.predict(X_test_holdout)\n",
        "\n",
        "# Save predictions to a CSV file\n",
        "output = pd.DataFrame({'y': predictions})\n",
        "\n",
        "# Save to CSV\n",
        "output.to_csv(\"team08-module2-predictions.csv\", index=False)\n",
        "\n",
        "print(\"Predictions saved to 'team08-module2-predictions.csv'\")\n"
      ],
      "execution_count": 23,
      "outputs": [
        {
          "output_type": "stream",
          "name": "stdout",
          "text": [
            "Predictions saved to 'team08-module2-predictions.csv'\n"
          ]
        }
      ]
    }
  ]
}