{
  "cells": [
    {
      "cell_type": "code",
      "execution_count": 102,
      "metadata": {
        "colab": {
          "base_uri": "https://localhost:8080/"
        },
        "id": "2_cdWGcheDXm",
        "outputId": "d3d3872b-3b08-42ed-a330-f846a7c4835c"
      },
      "outputs": [
        {
          "output_type": "stream",
          "name": "stdout",
          "text": [
            "Requirement already satisfied: scikit-learn==1.5.2 in /usr/local/lib/python3.11/dist-packages (1.5.2)\n",
            "Requirement already satisfied: numpy>=1.19.5 in /usr/local/lib/python3.11/dist-packages (from scikit-learn==1.5.2) (1.26.4)\n",
            "Requirement already satisfied: scipy>=1.6.0 in /usr/local/lib/python3.11/dist-packages (from scikit-learn==1.5.2) (1.13.1)\n",
            "Requirement already satisfied: joblib>=1.2.0 in /usr/local/lib/python3.11/dist-packages (from scikit-learn==1.5.2) (1.4.2)\n",
            "Requirement already satisfied: threadpoolctl>=3.1.0 in /usr/local/lib/python3.11/dist-packages (from scikit-learn==1.5.2) (3.5.0)\n"
          ]
        }
      ],
      "source": [
        "!pip install scikit-learn==1.5.2"
      ]
    },
    {
      "cell_type": "code",
      "execution_count": 103,
      "metadata": {
        "colab": {
          "base_uri": "https://localhost:8080/"
        },
        "id": "mA0HPVmIBT4C",
        "outputId": "60150b12-88e0-4335-e1db-ffd47610b401"
      },
      "outputs": [
        {
          "output_type": "stream",
          "name": "stdout",
          "text": [
            "<class 'pandas.core.frame.DataFrame'>\n",
            "RangeIndex: 20000 entries, 0 to 19999\n",
            "Data columns (total 21 columns):\n",
            " #   Column         Non-Null Count  Dtype  \n",
            "---  ------         --------------  -----  \n",
            " 0   id             20000 non-null  int64  \n",
            " 1   date           20000 non-null  object \n",
            " 2   bedrooms       20000 non-null  int64  \n",
            " 3   bathrooms      20000 non-null  float64\n",
            " 4   sqft_living    20000 non-null  int64  \n",
            " 5   sqft_lot       20000 non-null  int64  \n",
            " 6   floors         20000 non-null  float64\n",
            " 7   waterfront     20000 non-null  int64  \n",
            " 8   view           20000 non-null  int64  \n",
            " 9   condition      20000 non-null  int64  \n",
            " 10  grade          20000 non-null  int64  \n",
            " 11  sqft_above     20000 non-null  int64  \n",
            " 12  sqft_basement  20000 non-null  int64  \n",
            " 13  yr_built       20000 non-null  int64  \n",
            " 14  yr_renovated   20000 non-null  int64  \n",
            " 15  zipcode        20000 non-null  int64  \n",
            " 16  lat            20000 non-null  float64\n",
            " 17  long           20000 non-null  float64\n",
            " 18  sqft_living15  20000 non-null  int64  \n",
            " 19  sqft_lot15     20000 non-null  int64  \n",
            " 20  price          20000 non-null  float64\n",
            "dtypes: float64(5), int64(15), object(1)\n",
            "memory usage: 3.2+ MB\n"
          ]
        }
      ],
      "source": [
        "import pandas as pd\n",
        "\n",
        "data = pd.read_csv('https://raw.githubusercontent.com/byui-cse/cse450-course/master/data/housing.csv')\n",
        "data.info()"
      ]
    },
    {
      "cell_type": "code",
      "execution_count": 104,
      "metadata": {
        "colab": {
          "base_uri": "https://localhost:8080/"
        },
        "id": "CVSfaqgKPzE2",
        "outputId": "e0ff93dc-d99a-4bde-e861-eddf387ca16e"
      },
      "outputs": [
        {
          "output_type": "execute_result",
          "data": {
            "text/plain": [
              "(0.9397580959783209, 0.7987246602592847)"
            ]
          },
          "metadata": {},
          "execution_count": 104
        }
      ],
      "source": [
        "from sklearn.model_selection import train_test_split\n",
        "from sklearn.preprocessing import LabelEncoder\n",
        "import xgboost as xgb\n",
        "\n",
        "data = data.drop(columns=['id'])\n",
        "\n",
        "data['year_sold'] = data['date'].str[:4].astype(int)\n",
        "data = data.drop(columns=['date'])  # Drop original date column\n",
        "selected_features = ['sqft_living', 'bedrooms', 'bathrooms', 'grade', 'condition', 'yr_built', 'zipcode']\n",
        "\n",
        "X = data[selected_features] # Features\n",
        "y = data['price'] # Target\n",
        "\n",
        "# if 'zipcode' in X.columns:\n",
        "#     X_new.loc[:, 'zipcode'] = LabelEncoder().fit_transform(X_new['zipcode'])\n",
        "\n",
        "X_train, X_test, y_train, y_test = train_test_split(X, y, test_size=0.2, random_state=42)\n",
        "\n",
        "xgb_model = xgb.XGBRegressor(\n",
        "    objective='reg:squarederror',\n",
        "    n_estimators=500,\n",
        "    learning_rate=0.05,\n",
        "    max_depth=6,\n",
        "    subsample=0.8,\n",
        "    colsample_bytree=0.8,\n",
        "    random_state=42\n",
        ")\n",
        "\n",
        "xgb_model.fit(X_train, y_train)\n",
        "\n",
        "train_score = xgb_model.score(X_train, y_train)\n",
        "test_score = xgb_model.score(X_test, y_test)\n",
        "\n",
        "train_score, test_score\n"
      ]
    },
    {
      "cell_type": "code",
      "source": [
        "import pandas as pd\n",
        "from sklearn.preprocessing import LabelEncoder\n",
        "new_data_path = \"https://raw.githubusercontent.com/byui-cse/cse450-course/master/data/housing_holdout_test_mini.csv\"\n",
        "new_data = pd.read_csv(new_data_path)\n",
        "\n",
        "new_data['year_sold'] = new_data['date'].str[:4].astype(int)\n",
        "new_data = new_data.drop(columns=['id', 'date'])\n",
        "\n",
        "X_new = new_data[selected_features]\n",
        "\n",
        "# if 'zipcode' in new_data.columns:\n",
        "#     X_new.loc[:, 'zipcode'] = LabelEncoder().fit_transform(X_new['zipcode'])\n",
        "\n",
        "predicted_prices = xgb_model.predict(X_new)\n",
        "\n",
        "predicted_prices = predicted_prices.round(0)\n",
        "\n",
        "results = pd.DataFrame({'price': predicted_prices})\n",
        "\n",
        "results.to_csv(\"team8-module3-predictions.csv\", index=False)\n",
        "\n",
        "print(\"Predictions saved to predicted_prices.csv\")\n"
      ],
      "metadata": {
        "colab": {
          "base_uri": "https://localhost:8080/"
        },
        "id": "misV5dDQl3-x",
        "outputId": "5e65d416-ace0-409b-a76e-beecb8d20da9"
      },
      "execution_count": 106,
      "outputs": [
        {
          "output_type": "stream",
          "name": "stdout",
          "text": [
            "Predictions saved to predicted_prices.csv\n"
          ]
        }
      ]
    }
  ],
  "metadata": {
    "colab": {
      "name": "starter_housing.ipynb",
      "provenance": []
    },
    "kernelspec": {
      "display_name": "Python 3",
      "name": "python3"
    }
  },
  "nbformat": 4,
  "nbformat_minor": 0
}