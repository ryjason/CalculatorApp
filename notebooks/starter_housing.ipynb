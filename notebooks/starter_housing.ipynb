{
  "cells": [
    {
      "cell_type": "code",
      "execution_count": 30,
      "metadata": {
        "id": "kG0DE1SNdf2R",
        "outputId": "594f75f7-9027-47c0-b4c0-ebe01751bbc4",
        "colab": {
          "base_uri": "https://localhost:8080/"
        }
      },
      "outputs": [
        {
          "output_type": "stream",
          "name": "stdout",
          "text": [
            "Requirement already satisfied: scikit-learn==1.5.2 in /usr/local/lib/python3.11/dist-packages (1.5.2)\n",
            "Requirement already satisfied: numpy>=1.19.5 in /usr/local/lib/python3.11/dist-packages (from scikit-learn==1.5.2) (1.26.4)\n",
            "Requirement already satisfied: scipy>=1.6.0 in /usr/local/lib/python3.11/dist-packages (from scikit-learn==1.5.2) (1.13.1)\n",
            "Requirement already satisfied: joblib>=1.2.0 in /usr/local/lib/python3.11/dist-packages (from scikit-learn==1.5.2) (1.4.2)\n",
            "Requirement already satisfied: threadpoolctl>=3.1.0 in /usr/local/lib/python3.11/dist-packages (from scikit-learn==1.5.2) (3.5.0)\n"
          ]
        }
      ],
      "source": [
        "!pip install scikit-learn==1.5.2"
      ]
    },
    {
      "cell_type": "code",
      "execution_count": 31,
      "metadata": {
        "id": "mA0HPVmIBT4C"
      },
      "outputs": [],
      "source": [
        "import pandas as pd\n",
        "\n",
        "data = pd.read_csv('https://raw.githubusercontent.com/byui-cse/cse450-course/master/data/housing.csv')"
      ]
    },
    {
      "cell_type": "code",
      "execution_count": 35,
      "metadata": {
        "colab": {
          "base_uri": "https://localhost:8080/"
        },
        "id": "StiU5QcPPxqQ",
        "outputId": "2da624c8-f4bb-474a-d2a9-ab1a9ff0c1f5"
      },
      "outputs": [
        {
          "output_type": "stream",
          "name": "stdout",
          "text": [
            "Train Score: 0.9772\n",
            "Test Score: 0.8845\n"
          ]
        }
      ],
      "source": [
        "import pandas as pd\n",
        "from sklearn.model_selection import train_test_split\n",
        "from sklearn.preprocessing import LabelEncoder\n",
        "import xgboost as xgb\n",
        "\n",
        "# Load dataset (replace with actual filename)\n",
        "data = pd.read_csv('https://raw.githubusercontent.com/byui-cse/cse450-course/master/data/housing.csv')\n",
        "# Drop the 'id' column as it is not a useful feature\n",
        "data = data.drop(columns=['id'])\n",
        "\n",
        "# Extract 'year_sold' from the 'date' column and drop the original 'date' column\n",
        "data['year_sold'] = data['date'].str[:4].astype(int)\n",
        "data = data.drop(columns=['date'])\n",
        "\n",
        "# Select only the 7 most relevant features\n",
        "selected_features = ['sqft_living', 'bedrooms', 'bathrooms', 'grade', 'condition', 'yr_built', 'zipcode']\n",
        "\n",
        "X = data.drop(columns=['price'])\n",
        "\n",
        "# X = data[selected_features]  # Features\n",
        "y = data['price']  # Target\n",
        "\n",
        "# Encode 'zipcode' as it is categorical\n",
        "# if 'zipcode' in X.columns:\n",
        "#     le = LabelEncoder()\n",
        "#     X.loc[:, 'zipcode'] = LabelEncoder().fit_transform(X['zipcode'])\n",
        "\n",
        "# Split the dataset into training (80%) and test (20%) sets\n",
        "X_train, X_test, y_train, y_test = train_test_split(X, y, test_size=0.2, random_state=42)\n",
        "\n",
        "# Train the XGBoost model\n",
        "xgb_model = xgb.XGBRegressor(\n",
        "    objective='reg:squarederror',\n",
        "    n_estimators=500,\n",
        "    learning_rate=0.05,\n",
        "    max_depth=6,\n",
        "    subsample=0.8,\n",
        "    colsample_bytree=0.8,\n",
        "    random_state=42\n",
        ")\n",
        "\n",
        "xgb_model.fit(X_train, y_train)\n",
        "\n",
        "# Compute R^2 scores for training and test sets\n",
        "train_score = xgb_model.score(X_train, y_train)\n",
        "test_score = xgb_model.score(X_test, y_test)\n",
        "\n",
        "print(f\"Train Score: {train_score:.4f}\")\n",
        "print(f\"Test Score: {test_score:.4f}\")\n"
      ]
    },
    {
      "cell_type": "code",
      "execution_count": 33,
      "metadata": {
        "colab": {
          "base_uri": "https://localhost:8080/"
        },
        "id": "ALLMN63FPyEQ",
        "outputId": "b85e2c15-08c6-4d38-e62e-20f2dfb537ef"
      },
      "outputs": [
        {
          "output_type": "stream",
          "name": "stdout",
          "text": [
            "Predictions saved to team8-module3-predictions.csv\n"
          ]
        }
      ],
      "source": [
        "import pandas as pd\n",
        "from sklearn.preprocessing import LabelEncoder\n",
        "\n",
        "# Load new dataset (for prediction)\n",
        "new_data_path = \"https://raw.githubusercontent.com/byui-cse/cse450-course/master/data/housing_holdout_test_mini.csv\"\n",
        "new_data = pd.read_csv(new_data_path)\n",
        "\n",
        "# Extract year_sold from 'date' and drop 'id' & 'date'\n",
        "new_data['year_sold'] = new_data['date'].str[:4].astype(int)\n",
        "new_data = new_data.drop(columns=['id', 'date'])\n",
        "\n",
        "# Select only the 7 chosen features (matching training features)\n",
        "selected_features = ['sqft_living', 'bedrooms', 'bathrooms', 'grade', 'condition', 'yr_built', 'zipcode']\n",
        "X_new = new_data[selected_features]\n",
        "\n",
        "# Encode 'zipcode' to match training encoding\n",
        "# if 'zipcode' in X_new.columns:\n",
        "#   X_new.loc[:, 'zipcode'] = LabelEncoder().fit_transform(X_new['zipcode'])\n",
        "\n",
        "# Predict prices using trained model\n",
        "predicted_prices = xgb_model.predict(X_new)\n",
        "\n",
        "# Round predictions to the nearest whole number\n",
        "predicted_prices = predicted_prices.round(0)\n",
        "\n",
        "# Save predictions as a single-column CSV with header 'price'\n",
        "results = pd.DataFrame({'price': predicted_prices})\n",
        "results.to_csv(\"team8-module3-predictions.csv\", index=False)\n",
        "\n",
        "print(\"Predictions saved to team8-module3-predictions.csv\")\n",
        "\n"
      ]
    },
    {
      "cell_type": "code",
      "execution_count": 36,
      "metadata": {
        "colab": {
          "base_uri": "https://localhost:8080/"
        },
        "id": "RnGBwGVZPyyh",
        "outputId": "a074fc1c-e705-424b-ae3c-9025bf0cee62"
      },
      "outputs": [
        {
          "output_type": "stream",
          "name": "stdout",
          "text": [
            "Predictions saved to team8-module3-predictions.csv\n"
          ]
        }
      ],
      "source": [
        "import pandas as pd\n",
        "from sklearn.preprocessing import LabelEncoder\n",
        "\n",
        "# Load new dataset (for prediction)\n",
        "new_data_path = \"https://raw.githubusercontent.com/byui-cse/cse450-course/master/data/housing_holdout_test_mini.csv\"\n",
        "new_data = pd.read_csv(new_data_path)\n",
        "\n",
        "# Extract 'year_sold' from 'date' and drop 'id' & 'date'\n",
        "new_data['year_sold'] = new_data['date'].str[:4].astype(int)\n",
        "new_data = new_data.drop(columns=['id', 'date'])\n",
        "\n",
        "# Select all features dynamically (excluding 'price' if it exists)\n",
        "X_new = new_data.drop(columns=['price'], errors='ignore').copy()  # Exclude 'price' only if present\n",
        " # Ideally, reuse the trained encoder\n",
        "\n",
        "# Predict prices using the trained model\n",
        "predicted_prices = xgb_model.predict(X_new)\n",
        "\n",
        "# Round predictions to the nearest whole number\n",
        "predicted_prices = predicted_prices.round(0)\n",
        "\n",
        "# Save predictions as a single-column CSV with header 'price'\n",
        "results = pd.DataFrame({'price': predicted_prices})\n",
        "results.to_csv(\"team8-module3-predictions.csv\", index=False)\n",
        "\n",
        "print(\"Predictions saved to team8-module3-predictions.csv\")\n"
      ]
    },
    {
      "cell_type": "code",
      "execution_count": 33,
      "metadata": {
        "id": "CVSfaqgKPzE2"
      },
      "outputs": [],
      "source": []
    }
  ],
  "metadata": {
    "colab": {
      "name": "starter_housing.ipynb",
      "provenance": []
    },
    "kernelspec": {
      "display_name": "Python 3",
      "name": "python3"
    }
  },
  "nbformat": 4,
  "nbformat_minor": 0
}