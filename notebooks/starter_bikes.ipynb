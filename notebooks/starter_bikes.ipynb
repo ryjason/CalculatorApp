{
  "nbformat": 4,
  "nbformat_minor": 0,
  "metadata": {
    "colab": {
      "name": "starter_bikes.ipynb",
      "provenance": []
    },
    "kernelspec": {
      "name": "python3",
      "display_name": "Python 3"
    }
  },
  "cells": [
    {
      "cell_type": "code",
      "metadata": {
        "id": "mA0HPVmIBT4C",
        "outputId": "5690c194-2d2c-4e70-fad4-8b333d66b2fd",
        "colab": {
          "base_uri": "https://localhost:8080/",
          "height": 1000
        }
      },
      "source": [
        "# Import necessary libraries\n",
        "import pandas as pd\n",
        "import numpy as np\n",
        "import matplotlib.pyplot as plt\n",
        "from sklearn.model_selection import train_test_split\n",
        "from sklearn.preprocessing import MinMaxScaler\n",
        "import tensorflow as tf\n",
        "from tensorflow.keras.models import Sequential\n",
        "from tensorflow.keras.layers import Dense\n",
        "\n",
        "# Load the dataset\n",
        "url = 'https://raw.githubusercontent.com/byui-cse/cse450-course/master/data/bikes.csv'\n",
        "bikes = pd.read_csv(url)\n",
        "\n",
        "# Convert date column to datetime format\n",
        "bikes['dteday'] = pd.to_datetime(bikes['dteday'])\n",
        "\n",
        "# Create a new target variable for total bike rentals\n",
        "bikes['count'] = bikes['casual'] + bikes['registered']\n",
        "\n",
        "# Select relevant features\n",
        "features = ['temp_c', 'feels_like_c', 'hum', 'windspeed', 'hr',\n",
        "            'weathersit', 'season', 'holiday', 'workingday']\n",
        "target = 'count'\n",
        "\n",
        "# Define features (X) and target (y)\n",
        "X = bikes[features]\n",
        "y = bikes[target]\n",
        "\n",
        "# Split the data into training and testing sets\n",
        "X_train, X_test, y_train, y_test = train_test_split(X, y, test_size=0.2, random_state=42)\n",
        "\n",
        "# Normalize the feature data\n",
        "scaler = MinMaxScaler()\n",
        "X_train_scaled = scaler.fit_transform(X_train)\n",
        "X_test_scaled = scaler.transform(X_test)\n",
        "\n",
        "# Set random seed for reproducibility\n",
        "tf.random.set_seed(42)\n",
        "\n",
        "# Build the neural network model\n",
        "model = Sequential([\n",
        "    Dense(64, activation='relu', input_shape=(X_train_scaled.shape[1],)),\n",
        "    Dense(32, activation='relu'),\n",
        "    Dense(1)  # Output layer for regression\n",
        "])\n",
        "\n",
        "# Compile the model\n",
        "model.compile(\n",
        "    optimizer='adam',\n",
        "    loss='mean_absolute_error',\n",
        "    metrics=['mean_absolute_error']\n",
        ")\n",
        "\n",
        "# Display the model's architecture\n",
        "model.summary()\n",
        "\n",
        "# Train the model\n",
        "history = model.fit(\n",
        "    X_train_scaled, y_train,\n",
        "    validation_data=(X_test_scaled, y_test),\n",
        "    epochs=100,\n",
        "    batch_size=32,\n",
        "    verbose=1\n",
        ")\n",
        "\n"
      ],
      "execution_count": 3,
      "outputs": [
        {
          "output_type": "stream",
          "name": "stderr",
          "text": [
            "/usr/local/lib/python3.11/dist-packages/keras/src/layers/core/dense.py:87: UserWarning: Do not pass an `input_shape`/`input_dim` argument to a layer. When using Sequential models, prefer using an `Input(shape)` object as the first layer in the model instead.\n",
            "  super().__init__(activity_regularizer=activity_regularizer, **kwargs)\n"
          ]
        },
        {
          "output_type": "display_data",
          "data": {
            "text/plain": [
              "\u001b[1mModel: \"sequential\"\u001b[0m\n"
            ],
            "text/html": [
              "<pre style=\"white-space:pre;overflow-x:auto;line-height:normal;font-family:Menlo,'DejaVu Sans Mono',consolas,'Courier New',monospace\"><span style=\"font-weight: bold\">Model: \"sequential\"</span>\n",
              "</pre>\n"
            ]
          },
          "metadata": {}
        },
        {
          "output_type": "display_data",
          "data": {
            "text/plain": [
              "┏━━━━━━━━━━━━━━━━━━━━━━━━━━━━━━━━━━━━━━┳━━━━━━━━━━━━━━━━━━━━━━━━━━━━━┳━━━━━━━━━━━━━━━━━┓\n",
              "┃\u001b[1m \u001b[0m\u001b[1mLayer (type)                        \u001b[0m\u001b[1m \u001b[0m┃\u001b[1m \u001b[0m\u001b[1mOutput Shape               \u001b[0m\u001b[1m \u001b[0m┃\u001b[1m \u001b[0m\u001b[1m        Param #\u001b[0m\u001b[1m \u001b[0m┃\n",
              "┡━━━━━━━━━━━━━━━━━━━━━━━━━━━━━━━━━━━━━━╇━━━━━━━━━━━━━━━━━━━━━━━━━━━━━╇━━━━━━━━━━━━━━━━━┩\n",
              "│ dense (\u001b[38;5;33mDense\u001b[0m)                        │ (\u001b[38;5;45mNone\u001b[0m, \u001b[38;5;34m64\u001b[0m)                  │             \u001b[38;5;34m640\u001b[0m │\n",
              "├──────────────────────────────────────┼─────────────────────────────┼─────────────────┤\n",
              "│ dense_1 (\u001b[38;5;33mDense\u001b[0m)                      │ (\u001b[38;5;45mNone\u001b[0m, \u001b[38;5;34m32\u001b[0m)                  │           \u001b[38;5;34m2,080\u001b[0m │\n",
              "├──────────────────────────────────────┼─────────────────────────────┼─────────────────┤\n",
              "│ dense_2 (\u001b[38;5;33mDense\u001b[0m)                      │ (\u001b[38;5;45mNone\u001b[0m, \u001b[38;5;34m1\u001b[0m)                   │              \u001b[38;5;34m33\u001b[0m │\n",
              "└──────────────────────────────────────┴─────────────────────────────┴─────────────────┘\n"
            ],
            "text/html": [
              "<pre style=\"white-space:pre;overflow-x:auto;line-height:normal;font-family:Menlo,'DejaVu Sans Mono',consolas,'Courier New',monospace\">┏━━━━━━━━━━━━━━━━━━━━━━━━━━━━━━━━━━━━━━┳━━━━━━━━━━━━━━━━━━━━━━━━━━━━━┳━━━━━━━━━━━━━━━━━┓\n",
              "┃<span style=\"font-weight: bold\"> Layer (type)                         </span>┃<span style=\"font-weight: bold\"> Output Shape                </span>┃<span style=\"font-weight: bold\">         Param # </span>┃\n",
              "┡━━━━━━━━━━━━━━━━━━━━━━━━━━━━━━━━━━━━━━╇━━━━━━━━━━━━━━━━━━━━━━━━━━━━━╇━━━━━━━━━━━━━━━━━┩\n",
              "│ dense (<span style=\"color: #0087ff; text-decoration-color: #0087ff\">Dense</span>)                        │ (<span style=\"color: #00d7ff; text-decoration-color: #00d7ff\">None</span>, <span style=\"color: #00af00; text-decoration-color: #00af00\">64</span>)                  │             <span style=\"color: #00af00; text-decoration-color: #00af00\">640</span> │\n",
              "├──────────────────────────────────────┼─────────────────────────────┼─────────────────┤\n",
              "│ dense_1 (<span style=\"color: #0087ff; text-decoration-color: #0087ff\">Dense</span>)                      │ (<span style=\"color: #00d7ff; text-decoration-color: #00d7ff\">None</span>, <span style=\"color: #00af00; text-decoration-color: #00af00\">32</span>)                  │           <span style=\"color: #00af00; text-decoration-color: #00af00\">2,080</span> │\n",
              "├──────────────────────────────────────┼─────────────────────────────┼─────────────────┤\n",
              "│ dense_2 (<span style=\"color: #0087ff; text-decoration-color: #0087ff\">Dense</span>)                      │ (<span style=\"color: #00d7ff; text-decoration-color: #00d7ff\">None</span>, <span style=\"color: #00af00; text-decoration-color: #00af00\">1</span>)                   │              <span style=\"color: #00af00; text-decoration-color: #00af00\">33</span> │\n",
              "└──────────────────────────────────────┴─────────────────────────────┴─────────────────┘\n",
              "</pre>\n"
            ]
          },
          "metadata": {}
        },
        {
          "output_type": "display_data",
          "data": {
            "text/plain": [
              "\u001b[1m Total params: \u001b[0m\u001b[38;5;34m2,753\u001b[0m (10.75 KB)\n"
            ],
            "text/html": [
              "<pre style=\"white-space:pre;overflow-x:auto;line-height:normal;font-family:Menlo,'DejaVu Sans Mono',consolas,'Courier New',monospace\"><span style=\"font-weight: bold\"> Total params: </span><span style=\"color: #00af00; text-decoration-color: #00af00\">2,753</span> (10.75 KB)\n",
              "</pre>\n"
            ]
          },
          "metadata": {}
        },
        {
          "output_type": "display_data",
          "data": {
            "text/plain": [
              "\u001b[1m Trainable params: \u001b[0m\u001b[38;5;34m2,753\u001b[0m (10.75 KB)\n"
            ],
            "text/html": [
              "<pre style=\"white-space:pre;overflow-x:auto;line-height:normal;font-family:Menlo,'DejaVu Sans Mono',consolas,'Courier New',monospace\"><span style=\"font-weight: bold\"> Trainable params: </span><span style=\"color: #00af00; text-decoration-color: #00af00\">2,753</span> (10.75 KB)\n",
              "</pre>\n"
            ]
          },
          "metadata": {}
        },
        {
          "output_type": "display_data",
          "data": {
            "text/plain": [
              "\u001b[1m Non-trainable params: \u001b[0m\u001b[38;5;34m0\u001b[0m (0.00 B)\n"
            ],
            "text/html": [
              "<pre style=\"white-space:pre;overflow-x:auto;line-height:normal;font-family:Menlo,'DejaVu Sans Mono',consolas,'Courier New',monospace\"><span style=\"font-weight: bold\"> Non-trainable params: </span><span style=\"color: #00af00; text-decoration-color: #00af00\">0</span> (0.00 B)\n",
              "</pre>\n"
            ]
          },
          "metadata": {}
        },
        {
          "output_type": "stream",
          "name": "stdout",
          "text": [
            "Epoch 1/100\n",
            "\u001b[1m2812/2812\u001b[0m \u001b[32m━━━━━━━━━━━━━━━━━━━━\u001b[0m\u001b[37m\u001b[0m \u001b[1m6s\u001b[0m 2ms/step - loss: 244.1471 - mean_absolute_error: 244.1471 - val_loss: 188.7186 - val_mean_absolute_error: 188.7186\n",
            "Epoch 2/100\n",
            "\u001b[1m2812/2812\u001b[0m \u001b[32m━━━━━━━━━━━━━━━━━━━━\u001b[0m\u001b[37m\u001b[0m \u001b[1m10s\u001b[0m 2ms/step - loss: 186.9956 - mean_absolute_error: 186.9956 - val_loss: 177.2478 - val_mean_absolute_error: 177.2478\n",
            "Epoch 3/100\n",
            "\u001b[1m2812/2812\u001b[0m \u001b[32m━━━━━━━━━━━━━━━━━━━━\u001b[0m\u001b[37m\u001b[0m \u001b[1m10s\u001b[0m 2ms/step - loss: 176.1982 - mean_absolute_error: 176.1982 - val_loss: 167.4483 - val_mean_absolute_error: 167.4483\n",
            "Epoch 4/100\n",
            "\u001b[1m2812/2812\u001b[0m \u001b[32m━━━━━━━━━━━━━━━━━━━━\u001b[0m\u001b[37m\u001b[0m \u001b[1m5s\u001b[0m 2ms/step - loss: 167.0503 - mean_absolute_error: 167.0503 - val_loss: 160.1464 - val_mean_absolute_error: 160.1464\n",
            "Epoch 5/100\n",
            "\u001b[1m2812/2812\u001b[0m \u001b[32m━━━━━━━━━━━━━━━━━━━━\u001b[0m\u001b[37m\u001b[0m \u001b[1m5s\u001b[0m 2ms/step - loss: 160.4577 - mean_absolute_error: 160.4577 - val_loss: 155.7474 - val_mean_absolute_error: 155.7474\n",
            "Epoch 6/100\n",
            "\u001b[1m2812/2812\u001b[0m \u001b[32m━━━━━━━━━━━━━━━━━━━━\u001b[0m\u001b[37m\u001b[0m \u001b[1m5s\u001b[0m 2ms/step - loss: 156.7384 - mean_absolute_error: 156.7384 - val_loss: 153.0926 - val_mean_absolute_error: 153.0926\n",
            "Epoch 7/100\n",
            "\u001b[1m2812/2812\u001b[0m \u001b[32m━━━━━━━━━━━━━━━━━━━━\u001b[0m\u001b[37m\u001b[0m \u001b[1m5s\u001b[0m 2ms/step - loss: 154.2595 - mean_absolute_error: 154.2595 - val_loss: 151.0497 - val_mean_absolute_error: 151.0497\n",
            "Epoch 8/100\n",
            "\u001b[1m2812/2812\u001b[0m \u001b[32m━━━━━━━━━━━━━━━━━━━━\u001b[0m\u001b[37m\u001b[0m \u001b[1m5s\u001b[0m 2ms/step - loss: 152.3074 - mean_absolute_error: 152.3074 - val_loss: 149.3491 - val_mean_absolute_error: 149.3491\n",
            "Epoch 9/100\n",
            "\u001b[1m2812/2812\u001b[0m \u001b[32m━━━━━━━━━━━━━━━━━━━━\u001b[0m\u001b[37m\u001b[0m \u001b[1m4s\u001b[0m 2ms/step - loss: 150.6814 - mean_absolute_error: 150.6814 - val_loss: 147.7516 - val_mean_absolute_error: 147.7516\n",
            "Epoch 10/100\n",
            "\u001b[1m2812/2812\u001b[0m \u001b[32m━━━━━━━━━━━━━━━━━━━━\u001b[0m\u001b[37m\u001b[0m \u001b[1m5s\u001b[0m 2ms/step - loss: 149.1647 - mean_absolute_error: 149.1647 - val_loss: 146.2508 - val_mean_absolute_error: 146.2508\n",
            "Epoch 11/100\n",
            "\u001b[1m2812/2812\u001b[0m \u001b[32m━━━━━━━━━━━━━━━━━━━━\u001b[0m\u001b[37m\u001b[0m \u001b[1m5s\u001b[0m 2ms/step - loss: 147.6343 - mean_absolute_error: 147.6343 - val_loss: 144.8032 - val_mean_absolute_error: 144.8032\n",
            "Epoch 12/100\n",
            "\u001b[1m2812/2812\u001b[0m \u001b[32m━━━━━━━━━━━━━━━━━━━━\u001b[0m\u001b[37m\u001b[0m \u001b[1m5s\u001b[0m 2ms/step - loss: 146.1429 - mean_absolute_error: 146.1429 - val_loss: 143.2120 - val_mean_absolute_error: 143.2120\n",
            "Epoch 13/100\n",
            "\u001b[1m2812/2812\u001b[0m \u001b[32m━━━━━━━━━━━━━━━━━━━━\u001b[0m\u001b[37m\u001b[0m \u001b[1m4s\u001b[0m 1ms/step - loss: 144.4314 - mean_absolute_error: 144.4314 - val_loss: 141.4192 - val_mean_absolute_error: 141.4192\n",
            "Epoch 14/100\n",
            "\u001b[1m2812/2812\u001b[0m \u001b[32m━━━━━━━━━━━━━━━━━━━━\u001b[0m\u001b[37m\u001b[0m \u001b[1m6s\u001b[0m 2ms/step - loss: 142.5182 - mean_absolute_error: 142.5182 - val_loss: 139.7628 - val_mean_absolute_error: 139.7628\n",
            "Epoch 15/100\n",
            "\u001b[1m2812/2812\u001b[0m \u001b[32m━━━━━━━━━━━━━━━━━━━━\u001b[0m\u001b[37m\u001b[0m \u001b[1m5s\u001b[0m 2ms/step - loss: 140.8071 - mean_absolute_error: 140.8071 - val_loss: 138.2296 - val_mean_absolute_error: 138.2296\n",
            "Epoch 16/100\n",
            "\u001b[1m2812/2812\u001b[0m \u001b[32m━━━━━━━━━━━━━━━━━━━━\u001b[0m\u001b[37m\u001b[0m \u001b[1m4s\u001b[0m 1ms/step - loss: 139.2995 - mean_absolute_error: 139.2995 - val_loss: 136.8417 - val_mean_absolute_error: 136.8417\n",
            "Epoch 17/100\n",
            "\u001b[1m2812/2812\u001b[0m \u001b[32m━━━━━━━━━━━━━━━━━━━━\u001b[0m\u001b[37m\u001b[0m \u001b[1m6s\u001b[0m 2ms/step - loss: 137.8573 - mean_absolute_error: 137.8573 - val_loss: 135.5107 - val_mean_absolute_error: 135.5107\n",
            "Epoch 18/100\n",
            "\u001b[1m2812/2812\u001b[0m \u001b[32m━━━━━━━━━━━━━━━━━━━━\u001b[0m\u001b[37m\u001b[0m \u001b[1m5s\u001b[0m 2ms/step - loss: 136.5038 - mean_absolute_error: 136.5038 - val_loss: 134.3288 - val_mean_absolute_error: 134.3288\n",
            "Epoch 19/100\n",
            "\u001b[1m2812/2812\u001b[0m \u001b[32m━━━━━━━━━━━━━━━━━━━━\u001b[0m\u001b[37m\u001b[0m \u001b[1m5s\u001b[0m 2ms/step - loss: 135.1212 - mean_absolute_error: 135.1212 - val_loss: 133.6896 - val_mean_absolute_error: 133.6896\n",
            "Epoch 20/100\n",
            "\u001b[1m2812/2812\u001b[0m \u001b[32m━━━━━━━━━━━━━━━━━━━━\u001b[0m\u001b[37m\u001b[0m \u001b[1m5s\u001b[0m 1ms/step - loss: 133.8175 - mean_absolute_error: 133.8175 - val_loss: 132.1773 - val_mean_absolute_error: 132.1773\n",
            "Epoch 21/100\n",
            "\u001b[1m2812/2812\u001b[0m \u001b[32m━━━━━━━━━━━━━━━━━━━━\u001b[0m\u001b[37m\u001b[0m \u001b[1m5s\u001b[0m 1ms/step - loss: 132.5773 - mean_absolute_error: 132.5773 - val_loss: 130.9674 - val_mean_absolute_error: 130.9674\n",
            "Epoch 22/100\n",
            "\u001b[1m2812/2812\u001b[0m \u001b[32m━━━━━━━━━━━━━━━━━━━━\u001b[0m\u001b[37m\u001b[0m \u001b[1m5s\u001b[0m 2ms/step - loss: 131.4884 - mean_absolute_error: 131.4884 - val_loss: 129.7723 - val_mean_absolute_error: 129.7723\n",
            "Epoch 23/100\n",
            "\u001b[1m2812/2812\u001b[0m \u001b[32m━━━━━━━━━━━━━━━━━━━━\u001b[0m\u001b[37m\u001b[0m \u001b[1m4s\u001b[0m 1ms/step - loss: 130.5345 - mean_absolute_error: 130.5345 - val_loss: 128.6798 - val_mean_absolute_error: 128.6798\n",
            "Epoch 24/100\n",
            "\u001b[1m2812/2812\u001b[0m \u001b[32m━━━━━━━━━━━━━━━━━━━━\u001b[0m\u001b[37m\u001b[0m \u001b[1m6s\u001b[0m 2ms/step - loss: 129.6734 - mean_absolute_error: 129.6734 - val_loss: 127.8083 - val_mean_absolute_error: 127.8083\n",
            "Epoch 25/100\n",
            "\u001b[1m2812/2812\u001b[0m \u001b[32m━━━━━━━━━━━━━━━━━━━━\u001b[0m\u001b[37m\u001b[0m \u001b[1m4s\u001b[0m 1ms/step - loss: 128.7853 - mean_absolute_error: 128.7853 - val_loss: 126.8664 - val_mean_absolute_error: 126.8664\n",
            "Epoch 26/100\n",
            "\u001b[1m2812/2812\u001b[0m \u001b[32m━━━━━━━━━━━━━━━━━━━━\u001b[0m\u001b[37m\u001b[0m \u001b[1m4s\u001b[0m 2ms/step - loss: 127.9544 - mean_absolute_error: 127.9544 - val_loss: 126.0768 - val_mean_absolute_error: 126.0768\n",
            "Epoch 27/100\n",
            "\u001b[1m2812/2812\u001b[0m \u001b[32m━━━━━━━━━━━━━━━━━━━━\u001b[0m\u001b[37m\u001b[0m \u001b[1m5s\u001b[0m 2ms/step - loss: 126.9397 - mean_absolute_error: 126.9397 - val_loss: 124.7059 - val_mean_absolute_error: 124.7059\n",
            "Epoch 28/100\n",
            "\u001b[1m2812/2812\u001b[0m \u001b[32m━━━━━━━━━━━━━━━━━━━━\u001b[0m\u001b[37m\u001b[0m \u001b[1m5s\u001b[0m 2ms/step - loss: 125.5597 - mean_absolute_error: 125.5597 - val_loss: 123.5161 - val_mean_absolute_error: 123.5161\n",
            "Epoch 29/100\n",
            "\u001b[1m2812/2812\u001b[0m \u001b[32m━━━━━━━━━━━━━━━━━━━━\u001b[0m\u001b[37m\u001b[0m \u001b[1m7s\u001b[0m 2ms/step - loss: 124.3532 - mean_absolute_error: 124.3532 - val_loss: 122.3924 - val_mean_absolute_error: 122.3924\n",
            "Epoch 30/100\n",
            "\u001b[1m2812/2812\u001b[0m \u001b[32m━━━━━━━━━━━━━━━━━━━━\u001b[0m\u001b[37m\u001b[0m \u001b[1m9s\u001b[0m 2ms/step - loss: 123.1538 - mean_absolute_error: 123.1538 - val_loss: 121.1803 - val_mean_absolute_error: 121.1803\n",
            "Epoch 31/100\n",
            "\u001b[1m2812/2812\u001b[0m \u001b[32m━━━━━━━━━━━━━━━━━━━━\u001b[0m\u001b[37m\u001b[0m \u001b[1m5s\u001b[0m 2ms/step - loss: 121.9798 - mean_absolute_error: 121.9798 - val_loss: 120.4176 - val_mean_absolute_error: 120.4176\n",
            "Epoch 32/100\n",
            "\u001b[1m2812/2812\u001b[0m \u001b[32m━━━━━━━━━━━━━━━━━━━━\u001b[0m\u001b[37m\u001b[0m \u001b[1m4s\u001b[0m 1ms/step - loss: 120.8432 - mean_absolute_error: 120.8432 - val_loss: 119.2387 - val_mean_absolute_error: 119.2387\n",
            "Epoch 33/100\n",
            "\u001b[1m2812/2812\u001b[0m \u001b[32m━━━━━━━━━━━━━━━━━━━━\u001b[0m\u001b[37m\u001b[0m \u001b[1m5s\u001b[0m 1ms/step - loss: 119.6820 - mean_absolute_error: 119.6820 - val_loss: 118.2047 - val_mean_absolute_error: 118.2047\n",
            "Epoch 34/100\n",
            "\u001b[1m2812/2812\u001b[0m \u001b[32m━━━━━━━━━━━━━━━━━━━━\u001b[0m\u001b[37m\u001b[0m \u001b[1m6s\u001b[0m 2ms/step - loss: 118.5883 - mean_absolute_error: 118.5883 - val_loss: 117.0699 - val_mean_absolute_error: 117.0699\n",
            "Epoch 35/100\n",
            "\u001b[1m2812/2812\u001b[0m \u001b[32m━━━━━━━━━━━━━━━━━━━━\u001b[0m\u001b[37m\u001b[0m \u001b[1m5s\u001b[0m 2ms/step - loss: 117.5471 - mean_absolute_error: 117.5471 - val_loss: 116.7717 - val_mean_absolute_error: 116.7717\n",
            "Epoch 36/100\n",
            "\u001b[1m2812/2812\u001b[0m \u001b[32m━━━━━━━━━━━━━━━━━━━━\u001b[0m\u001b[37m\u001b[0m \u001b[1m4s\u001b[0m 1ms/step - loss: 116.5342 - mean_absolute_error: 116.5342 - val_loss: 115.7119 - val_mean_absolute_error: 115.7119\n",
            "Epoch 37/100\n",
            "\u001b[1m2812/2812\u001b[0m \u001b[32m━━━━━━━━━━━━━━━━━━━━\u001b[0m\u001b[37m\u001b[0m \u001b[1m5s\u001b[0m 2ms/step - loss: 115.6679 - mean_absolute_error: 115.6679 - val_loss: 114.7109 - val_mean_absolute_error: 114.7109\n",
            "Epoch 38/100\n",
            "\u001b[1m2812/2812\u001b[0m \u001b[32m━━━━━━━━━━━━━━━━━━━━\u001b[0m\u001b[37m\u001b[0m \u001b[1m4s\u001b[0m 1ms/step - loss: 114.8078 - mean_absolute_error: 114.8078 - val_loss: 113.9702 - val_mean_absolute_error: 113.9702\n",
            "Epoch 39/100\n",
            "\u001b[1m2812/2812\u001b[0m \u001b[32m━━━━━━━━━━━━━━━━━━━━\u001b[0m\u001b[37m\u001b[0m \u001b[1m6s\u001b[0m 2ms/step - loss: 114.0652 - mean_absolute_error: 114.0652 - val_loss: 113.3117 - val_mean_absolute_error: 113.3117\n",
            "Epoch 40/100\n",
            "\u001b[1m2812/2812\u001b[0m \u001b[32m━━━━━━━━━━━━━━━━━━━━\u001b[0m\u001b[37m\u001b[0m \u001b[1m5s\u001b[0m 2ms/step - loss: 113.3823 - mean_absolute_error: 113.3823 - val_loss: 112.6138 - val_mean_absolute_error: 112.6138\n",
            "Epoch 41/100\n",
            "\u001b[1m2812/2812\u001b[0m \u001b[32m━━━━━━━━━━━━━━━━━━━━\u001b[0m\u001b[37m\u001b[0m \u001b[1m5s\u001b[0m 2ms/step - loss: 112.7615 - mean_absolute_error: 112.7615 - val_loss: 112.3599 - val_mean_absolute_error: 112.3599\n",
            "Epoch 42/100\n",
            "\u001b[1m2812/2812\u001b[0m \u001b[32m━━━━━━━━━━━━━━━━━━━━\u001b[0m\u001b[37m\u001b[0m \u001b[1m5s\u001b[0m 2ms/step - loss: 112.1445 - mean_absolute_error: 112.1445 - val_loss: 111.8955 - val_mean_absolute_error: 111.8955\n",
            "Epoch 43/100\n",
            "\u001b[1m2812/2812\u001b[0m \u001b[32m━━━━━━━━━━━━━━━━━━━━\u001b[0m\u001b[37m\u001b[0m \u001b[1m5s\u001b[0m 2ms/step - loss: 111.5063 - mean_absolute_error: 111.5063 - val_loss: 110.8625 - val_mean_absolute_error: 110.8625\n",
            "Epoch 44/100\n",
            "\u001b[1m2812/2812\u001b[0m \u001b[32m━━━━━━━━━━━━━━━━━━━━\u001b[0m\u001b[37m\u001b[0m \u001b[1m5s\u001b[0m 2ms/step - loss: 110.9157 - mean_absolute_error: 110.9157 - val_loss: 110.6391 - val_mean_absolute_error: 110.6391\n",
            "Epoch 45/100\n",
            "\u001b[1m2812/2812\u001b[0m \u001b[32m━━━━━━━━━━━━━━━━━━━━\u001b[0m\u001b[37m\u001b[0m \u001b[1m5s\u001b[0m 2ms/step - loss: 110.3699 - mean_absolute_error: 110.3699 - val_loss: 109.6449 - val_mean_absolute_error: 109.6449\n",
            "Epoch 46/100\n",
            "\u001b[1m2812/2812\u001b[0m \u001b[32m━━━━━━━━━━━━━━━━━━━━\u001b[0m\u001b[37m\u001b[0m \u001b[1m5s\u001b[0m 2ms/step - loss: 109.8067 - mean_absolute_error: 109.8067 - val_loss: 109.2190 - val_mean_absolute_error: 109.2190\n",
            "Epoch 47/100\n",
            "\u001b[1m2812/2812\u001b[0m \u001b[32m━━━━━━━━━━━━━━━━━━━━\u001b[0m\u001b[37m\u001b[0m \u001b[1m5s\u001b[0m 2ms/step - loss: 109.3163 - mean_absolute_error: 109.3163 - val_loss: 108.7964 - val_mean_absolute_error: 108.7964\n",
            "Epoch 48/100\n",
            "\u001b[1m2812/2812\u001b[0m \u001b[32m━━━━━━━━━━━━━━━━━━━━\u001b[0m\u001b[37m\u001b[0m \u001b[1m5s\u001b[0m 2ms/step - loss: 108.8490 - mean_absolute_error: 108.8490 - val_loss: 108.3182 - val_mean_absolute_error: 108.3182\n",
            "Epoch 49/100\n",
            "\u001b[1m2812/2812\u001b[0m \u001b[32m━━━━━━━━━━━━━━━━━━━━\u001b[0m\u001b[37m\u001b[0m \u001b[1m6s\u001b[0m 2ms/step - loss: 108.4239 - mean_absolute_error: 108.4239 - val_loss: 107.8406 - val_mean_absolute_error: 107.8406\n",
            "Epoch 50/100\n",
            "\u001b[1m2812/2812\u001b[0m \u001b[32m━━━━━━━━━━━━━━━━━━━━\u001b[0m\u001b[37m\u001b[0m \u001b[1m5s\u001b[0m 2ms/step - loss: 108.0326 - mean_absolute_error: 108.0326 - val_loss: 107.6059 - val_mean_absolute_error: 107.6059\n",
            "Epoch 51/100\n",
            "\u001b[1m2812/2812\u001b[0m \u001b[32m━━━━━━━━━━━━━━━━━━━━\u001b[0m\u001b[37m\u001b[0m \u001b[1m5s\u001b[0m 2ms/step - loss: 107.6440 - mean_absolute_error: 107.6440 - val_loss: 107.2511 - val_mean_absolute_error: 107.2511\n",
            "Epoch 52/100\n",
            "\u001b[1m2812/2812\u001b[0m \u001b[32m━━━━━━━━━━━━━━━━━━━━\u001b[0m\u001b[37m\u001b[0m \u001b[1m4s\u001b[0m 1ms/step - loss: 107.2853 - mean_absolute_error: 107.2853 - val_loss: 107.0207 - val_mean_absolute_error: 107.0207\n",
            "Epoch 53/100\n",
            "\u001b[1m2812/2812\u001b[0m \u001b[32m━━━━━━━━━━━━━━━━━━━━\u001b[0m\u001b[37m\u001b[0m \u001b[1m4s\u001b[0m 1ms/step - loss: 106.9603 - mean_absolute_error: 106.9603 - val_loss: 106.6920 - val_mean_absolute_error: 106.6920\n",
            "Epoch 54/100\n",
            "\u001b[1m2812/2812\u001b[0m \u001b[32m━━━━━━━━━━━━━━━━━━━━\u001b[0m\u001b[37m\u001b[0m \u001b[1m5s\u001b[0m 1ms/step - loss: 106.6662 - mean_absolute_error: 106.6662 - val_loss: 106.3042 - val_mean_absolute_error: 106.3042\n",
            "Epoch 55/100\n",
            "\u001b[1m2812/2812\u001b[0m \u001b[32m━━━━━━━━━━━━━━━━━━━━\u001b[0m\u001b[37m\u001b[0m \u001b[1m5s\u001b[0m 2ms/step - loss: 106.4016 - mean_absolute_error: 106.4016 - val_loss: 106.1518 - val_mean_absolute_error: 106.1518\n",
            "Epoch 56/100\n",
            "\u001b[1m2812/2812\u001b[0m \u001b[32m━━━━━━━━━━━━━━━━━━━━\u001b[0m\u001b[37m\u001b[0m \u001b[1m6s\u001b[0m 2ms/step - loss: 106.0818 - mean_absolute_error: 106.0818 - val_loss: 105.8195 - val_mean_absolute_error: 105.8195\n",
            "Epoch 57/100\n",
            "\u001b[1m2812/2812\u001b[0m \u001b[32m━━━━━━━━━━━━━━━━━━━━\u001b[0m\u001b[37m\u001b[0m \u001b[1m10s\u001b[0m 2ms/step - loss: 105.8282 - mean_absolute_error: 105.8282 - val_loss: 105.5597 - val_mean_absolute_error: 105.5597\n",
            "Epoch 58/100\n",
            "\u001b[1m2812/2812\u001b[0m \u001b[32m━━━━━━━━━━━━━━━━━━━━\u001b[0m\u001b[37m\u001b[0m \u001b[1m4s\u001b[0m 1ms/step - loss: 105.5877 - mean_absolute_error: 105.5877 - val_loss: 105.3971 - val_mean_absolute_error: 105.3971\n",
            "Epoch 59/100\n",
            "\u001b[1m2812/2812\u001b[0m \u001b[32m━━━━━━━━━━━━━━━━━━━━\u001b[0m\u001b[37m\u001b[0m \u001b[1m5s\u001b[0m 2ms/step - loss: 105.3385 - mean_absolute_error: 105.3385 - val_loss: 105.2213 - val_mean_absolute_error: 105.2213\n",
            "Epoch 60/100\n",
            "\u001b[1m2812/2812\u001b[0m \u001b[32m━━━━━━━━━━━━━━━━━━━━\u001b[0m\u001b[37m\u001b[0m \u001b[1m5s\u001b[0m 2ms/step - loss: 105.1330 - mean_absolute_error: 105.1330 - val_loss: 105.0414 - val_mean_absolute_error: 105.0414\n",
            "Epoch 61/100\n",
            "\u001b[1m2812/2812\u001b[0m \u001b[32m━━━━━━━━━━━━━━━━━━━━\u001b[0m\u001b[37m\u001b[0m \u001b[1m5s\u001b[0m 2ms/step - loss: 104.9370 - mean_absolute_error: 104.9370 - val_loss: 104.9880 - val_mean_absolute_error: 104.9880\n",
            "Epoch 62/100\n",
            "\u001b[1m2812/2812\u001b[0m \u001b[32m━━━━━━━━━━━━━━━━━━━━\u001b[0m\u001b[37m\u001b[0m \u001b[1m6s\u001b[0m 2ms/step - loss: 104.7367 - mean_absolute_error: 104.7367 - val_loss: 104.7005 - val_mean_absolute_error: 104.7005\n",
            "Epoch 63/100\n",
            "\u001b[1m2812/2812\u001b[0m \u001b[32m━━━━━━━━━━━━━━━━━━━━\u001b[0m\u001b[37m\u001b[0m \u001b[1m10s\u001b[0m 2ms/step - loss: 104.5651 - mean_absolute_error: 104.5651 - val_loss: 104.6558 - val_mean_absolute_error: 104.6558\n",
            "Epoch 64/100\n",
            "\u001b[1m2812/2812\u001b[0m \u001b[32m━━━━━━━━━━━━━━━━━━━━\u001b[0m\u001b[37m\u001b[0m \u001b[1m10s\u001b[0m 2ms/step - loss: 104.4012 - mean_absolute_error: 104.4012 - val_loss: 104.4075 - val_mean_absolute_error: 104.4075\n",
            "Epoch 65/100\n",
            "\u001b[1m2812/2812\u001b[0m \u001b[32m━━━━━━━━━━━━━━━━━━━━\u001b[0m\u001b[37m\u001b[0m \u001b[1m4s\u001b[0m 1ms/step - loss: 104.2464 - mean_absolute_error: 104.2464 - val_loss: 104.3312 - val_mean_absolute_error: 104.3312\n",
            "Epoch 66/100\n",
            "\u001b[1m2812/2812\u001b[0m \u001b[32m━━━━━━━━━━━━━━━━━━━━\u001b[0m\u001b[37m\u001b[0m \u001b[1m5s\u001b[0m 2ms/step - loss: 104.0893 - mean_absolute_error: 104.0893 - val_loss: 104.0966 - val_mean_absolute_error: 104.0966\n",
            "Epoch 67/100\n",
            "\u001b[1m2812/2812\u001b[0m \u001b[32m━━━━━━━━━━━━━━━━━━━━\u001b[0m\u001b[37m\u001b[0m \u001b[1m6s\u001b[0m 2ms/step - loss: 103.9351 - mean_absolute_error: 103.9351 - val_loss: 104.0496 - val_mean_absolute_error: 104.0496\n",
            "Epoch 68/100\n",
            "\u001b[1m2812/2812\u001b[0m \u001b[32m━━━━━━━━━━━━━━━━━━━━\u001b[0m\u001b[37m\u001b[0m \u001b[1m4s\u001b[0m 1ms/step - loss: 103.7961 - mean_absolute_error: 103.7961 - val_loss: 103.9023 - val_mean_absolute_error: 103.9023\n",
            "Epoch 69/100\n",
            "\u001b[1m2812/2812\u001b[0m \u001b[32m━━━━━━━━━━━━━━━━━━━━\u001b[0m\u001b[37m\u001b[0m \u001b[1m6s\u001b[0m 2ms/step - loss: 103.6199 - mean_absolute_error: 103.6199 - val_loss: 103.8006 - val_mean_absolute_error: 103.8006\n",
            "Epoch 70/100\n",
            "\u001b[1m2812/2812\u001b[0m \u001b[32m━━━━━━━━━━━━━━━━━━━━\u001b[0m\u001b[37m\u001b[0m \u001b[1m10s\u001b[0m 2ms/step - loss: 103.5173 - mean_absolute_error: 103.5173 - val_loss: 104.0039 - val_mean_absolute_error: 104.0039\n",
            "Epoch 71/100\n",
            "\u001b[1m2812/2812\u001b[0m \u001b[32m━━━━━━━━━━━━━━━━━━━━\u001b[0m\u001b[37m\u001b[0m \u001b[1m5s\u001b[0m 2ms/step - loss: 103.4339 - mean_absolute_error: 103.4339 - val_loss: 103.7219 - val_mean_absolute_error: 103.7219\n",
            "Epoch 72/100\n",
            "\u001b[1m2812/2812\u001b[0m \u001b[32m━━━━━━━━━━━━━━━━━━━━\u001b[0m\u001b[37m\u001b[0m \u001b[1m5s\u001b[0m 2ms/step - loss: 103.2824 - mean_absolute_error: 103.2824 - val_loss: 103.7412 - val_mean_absolute_error: 103.7412\n",
            "Epoch 73/100\n",
            "\u001b[1m2812/2812\u001b[0m \u001b[32m━━━━━━━━━━━━━━━━━━━━\u001b[0m\u001b[37m\u001b[0m \u001b[1m4s\u001b[0m 1ms/step - loss: 103.1775 - mean_absolute_error: 103.1775 - val_loss: 103.9480 - val_mean_absolute_error: 103.9480\n",
            "Epoch 74/100\n",
            "\u001b[1m2812/2812\u001b[0m \u001b[32m━━━━━━━━━━━━━━━━━━━━\u001b[0m\u001b[37m\u001b[0m \u001b[1m6s\u001b[0m 2ms/step - loss: 103.1034 - mean_absolute_error: 103.1034 - val_loss: 103.8714 - val_mean_absolute_error: 103.8714\n",
            "Epoch 75/100\n",
            "\u001b[1m2812/2812\u001b[0m \u001b[32m━━━━━━━━━━━━━━━━━━━━\u001b[0m\u001b[37m\u001b[0m \u001b[1m5s\u001b[0m 2ms/step - loss: 103.0063 - mean_absolute_error: 103.0063 - val_loss: 103.3875 - val_mean_absolute_error: 103.3875\n",
            "Epoch 76/100\n",
            "\u001b[1m2812/2812\u001b[0m \u001b[32m━━━━━━━━━━━━━━━━━━━━\u001b[0m\u001b[37m\u001b[0m \u001b[1m5s\u001b[0m 1ms/step - loss: 102.8938 - mean_absolute_error: 102.8938 - val_loss: 103.1762 - val_mean_absolute_error: 103.1762\n",
            "Epoch 77/100\n",
            "\u001b[1m2812/2812\u001b[0m \u001b[32m━━━━━━━━━━━━━━━━━━━━\u001b[0m\u001b[37m\u001b[0m \u001b[1m6s\u001b[0m 2ms/step - loss: 102.7845 - mean_absolute_error: 102.7845 - val_loss: 103.2297 - val_mean_absolute_error: 103.2297\n",
            "Epoch 78/100\n",
            "\u001b[1m2812/2812\u001b[0m \u001b[32m━━━━━━━━━━━━━━━━━━━━\u001b[0m\u001b[37m\u001b[0m \u001b[1m5s\u001b[0m 2ms/step - loss: 102.7244 - mean_absolute_error: 102.7244 - val_loss: 103.1487 - val_mean_absolute_error: 103.1487\n",
            "Epoch 79/100\n",
            "\u001b[1m2812/2812\u001b[0m \u001b[32m━━━━━━━━━━━━━━━━━━━━\u001b[0m\u001b[37m\u001b[0m \u001b[1m6s\u001b[0m 2ms/step - loss: 102.5641 - mean_absolute_error: 102.5641 - val_loss: 103.0392 - val_mean_absolute_error: 103.0392\n",
            "Epoch 80/100\n",
            "\u001b[1m2812/2812\u001b[0m \u001b[32m━━━━━━━━━━━━━━━━━━━━\u001b[0m\u001b[37m\u001b[0m \u001b[1m5s\u001b[0m 2ms/step - loss: 102.4788 - mean_absolute_error: 102.4788 - val_loss: 102.8544 - val_mean_absolute_error: 102.8544\n",
            "Epoch 81/100\n",
            "\u001b[1m2812/2812\u001b[0m \u001b[32m━━━━━━━━━━━━━━━━━━━━\u001b[0m\u001b[37m\u001b[0m \u001b[1m5s\u001b[0m 2ms/step - loss: 102.3553 - mean_absolute_error: 102.3553 - val_loss: 103.0008 - val_mean_absolute_error: 103.0008\n",
            "Epoch 82/100\n",
            "\u001b[1m2812/2812\u001b[0m \u001b[32m━━━━━━━━━━━━━━━━━━━━\u001b[0m\u001b[37m\u001b[0m \u001b[1m5s\u001b[0m 2ms/step - loss: 102.2980 - mean_absolute_error: 102.2980 - val_loss: 102.7464 - val_mean_absolute_error: 102.7464\n",
            "Epoch 83/100\n",
            "\u001b[1m2812/2812\u001b[0m \u001b[32m━━━━━━━━━━━━━━━━━━━━\u001b[0m\u001b[37m\u001b[0m \u001b[1m4s\u001b[0m 2ms/step - loss: 102.1678 - mean_absolute_error: 102.1678 - val_loss: 102.5659 - val_mean_absolute_error: 102.5659\n",
            "Epoch 84/100\n",
            "\u001b[1m2812/2812\u001b[0m \u001b[32m━━━━━━━━━━━━━━━━━━━━\u001b[0m\u001b[37m\u001b[0m \u001b[1m6s\u001b[0m 2ms/step - loss: 102.1437 - mean_absolute_error: 102.1437 - val_loss: 102.6447 - val_mean_absolute_error: 102.6447\n",
            "Epoch 85/100\n",
            "\u001b[1m2812/2812\u001b[0m \u001b[32m━━━━━━━━━━━━━━━━━━━━\u001b[0m\u001b[37m\u001b[0m \u001b[1m5s\u001b[0m 2ms/step - loss: 102.0804 - mean_absolute_error: 102.0804 - val_loss: 102.4956 - val_mean_absolute_error: 102.4956\n",
            "Epoch 86/100\n",
            "\u001b[1m2812/2812\u001b[0m \u001b[32m━━━━━━━━━━━━━━━━━━━━\u001b[0m\u001b[37m\u001b[0m \u001b[1m6s\u001b[0m 2ms/step - loss: 101.9671 - mean_absolute_error: 101.9671 - val_loss: 102.4018 - val_mean_absolute_error: 102.4018\n",
            "Epoch 87/100\n",
            "\u001b[1m2812/2812\u001b[0m \u001b[32m━━━━━━━━━━━━━━━━━━━━\u001b[0m\u001b[37m\u001b[0m \u001b[1m5s\u001b[0m 2ms/step - loss: 101.9172 - mean_absolute_error: 101.9172 - val_loss: 102.3550 - val_mean_absolute_error: 102.3550\n",
            "Epoch 88/100\n",
            "\u001b[1m2812/2812\u001b[0m \u001b[32m━━━━━━━━━━━━━━━━━━━━\u001b[0m\u001b[37m\u001b[0m \u001b[1m5s\u001b[0m 2ms/step - loss: 101.8445 - mean_absolute_error: 101.8445 - val_loss: 102.5860 - val_mean_absolute_error: 102.5860\n",
            "Epoch 89/100\n",
            "\u001b[1m2812/2812\u001b[0m \u001b[32m━━━━━━━━━━━━━━━━━━━━\u001b[0m\u001b[37m\u001b[0m \u001b[1m5s\u001b[0m 2ms/step - loss: 101.8044 - mean_absolute_error: 101.8044 - val_loss: 102.6034 - val_mean_absolute_error: 102.6034\n",
            "Epoch 90/100\n",
            "\u001b[1m2812/2812\u001b[0m \u001b[32m━━━━━━━━━━━━━━━━━━━━\u001b[0m\u001b[37m\u001b[0m \u001b[1m5s\u001b[0m 2ms/step - loss: 101.7716 - mean_absolute_error: 101.7716 - val_loss: 102.1514 - val_mean_absolute_error: 102.1514\n",
            "Epoch 91/100\n",
            "\u001b[1m2812/2812\u001b[0m \u001b[32m━━━━━━━━━━━━━━━━━━━━\u001b[0m\u001b[37m\u001b[0m \u001b[1m9s\u001b[0m 2ms/step - loss: 101.6619 - mean_absolute_error: 101.6619 - val_loss: 102.4974 - val_mean_absolute_error: 102.4974\n",
            "Epoch 92/100\n",
            "\u001b[1m2812/2812\u001b[0m \u001b[32m━━━━━━━━━━━━━━━━━━━━\u001b[0m\u001b[37m\u001b[0m \u001b[1m5s\u001b[0m 2ms/step - loss: 101.6510 - mean_absolute_error: 101.6510 - val_loss: 102.0460 - val_mean_absolute_error: 102.0460\n",
            "Epoch 93/100\n",
            "\u001b[1m2812/2812\u001b[0m \u001b[32m━━━━━━━━━━━━━━━━━━━━\u001b[0m\u001b[37m\u001b[0m \u001b[1m4s\u001b[0m 1ms/step - loss: 101.6034 - mean_absolute_error: 101.6034 - val_loss: 102.6894 - val_mean_absolute_error: 102.6894\n",
            "Epoch 94/100\n",
            "\u001b[1m2812/2812\u001b[0m \u001b[32m━━━━━━━━━━━━━━━━━━━━\u001b[0m\u001b[37m\u001b[0m \u001b[1m5s\u001b[0m 2ms/step - loss: 101.5792 - mean_absolute_error: 101.5792 - val_loss: 102.3962 - val_mean_absolute_error: 102.3962\n",
            "Epoch 95/100\n",
            "\u001b[1m2812/2812\u001b[0m \u001b[32m━━━━━━━━━━━━━━━━━━━━\u001b[0m\u001b[37m\u001b[0m \u001b[1m10s\u001b[0m 2ms/step - loss: 101.5236 - mean_absolute_error: 101.5236 - val_loss: 102.0513 - val_mean_absolute_error: 102.0513\n",
            "Epoch 96/100\n",
            "\u001b[1m2812/2812\u001b[0m \u001b[32m━━━━━━━━━━━━━━━━━━━━\u001b[0m\u001b[37m\u001b[0m \u001b[1m5s\u001b[0m 2ms/step - loss: 101.4094 - mean_absolute_error: 101.4094 - val_loss: 102.3636 - val_mean_absolute_error: 102.3636\n",
            "Epoch 97/100\n",
            "\u001b[1m2812/2812\u001b[0m \u001b[32m━━━━━━━━━━━━━━━━━━━━\u001b[0m\u001b[37m\u001b[0m \u001b[1m5s\u001b[0m 1ms/step - loss: 101.3857 - mean_absolute_error: 101.3857 - val_loss: 101.9343 - val_mean_absolute_error: 101.9343\n",
            "Epoch 98/100\n",
            "\u001b[1m2812/2812\u001b[0m \u001b[32m━━━━━━━━━━━━━━━━━━━━\u001b[0m\u001b[37m\u001b[0m \u001b[1m6s\u001b[0m 2ms/step - loss: 101.3426 - mean_absolute_error: 101.3426 - val_loss: 102.3079 - val_mean_absolute_error: 102.3079\n",
            "Epoch 99/100\n",
            "\u001b[1m2812/2812\u001b[0m \u001b[32m━━━━━━━━━━━━━━━━━━━━\u001b[0m\u001b[37m\u001b[0m \u001b[1m4s\u001b[0m 1ms/step - loss: 101.3495 - mean_absolute_error: 101.3495 - val_loss: 102.1221 - val_mean_absolute_error: 102.1221\n",
            "Epoch 100/100\n",
            "\u001b[1m2812/2812\u001b[0m \u001b[32m━━━━━━━━━━━━━━━━━━━━\u001b[0m\u001b[37m\u001b[0m \u001b[1m6s\u001b[0m 2ms/step - loss: 101.3103 - mean_absolute_error: 101.3103 - val_loss: 102.4559 - val_mean_absolute_error: 102.4559\n"
          ]
        }
      ]
    },
    {
      "cell_type": "code",
      "metadata": {
        "id": "ALLMN63FPyEQ",
        "outputId": "e313188d-b5b9-48b4-8014-61aa3fe8df72",
        "colab": {
          "base_uri": "https://localhost:8080/",
          "height": 508
        }
      },
      "source": [
        "# Plot training & validation loss values\n",
        "plt.plot(history.history['loss'], label='Training Loss')\n",
        "plt.plot(history.history['val_loss'], label='Validation Loss')\n",
        "plt.title('Model Loss')\n",
        "plt.xlabel('Epoch')\n",
        "plt.ylabel('Mean Absolute Error')\n",
        "plt.legend()\n",
        "plt.show()\n",
        "\n",
        "# Evaluate the model on the test set\n",
        "test_loss, test_mae = model.evaluate(X_test_scaled, y_test)\n",
        "print(f'Test MAE: {test_mae}')"
      ],
      "execution_count": 4,
      "outputs": [
        {
          "output_type": "display_data",
          "data": {
            "text/plain": [
              "<Figure size 640x480 with 1 Axes>"
            ],
            "image/png": "[encoded data removed]"
          },
          "metadata": {}
        },
        {
          "output_type": "stream",
          "name": "stdout",
          "text": [
            "\u001b[1m703/703\u001b[0m \u001b[32m━━━━━━━━━━━━━━━━━━━━\u001b[0m\u001b[37m\u001b[0m \u001b[1m1s\u001b[0m 1ms/step - loss: 102.4750 - mean_absolute_error: 102.4750\n",
            "Test MAE: 102.45592498779297\n"
          ]
        }
      ]
    },
    {
      "cell_type": "code",
      "metadata": {
        "id": "RnGBwGVZPyyh"
      },
      "source": [],
      "execution_count": null,
      "outputs": []
    },
    {
      "cell_type": "code",
      "metadata": {
        "id": "CVSfaqgKPzE2"
      },
      "source": [],
      "execution_count": null,
      "outputs": []
    }
  ]
}